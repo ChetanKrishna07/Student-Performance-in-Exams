{
 "cells": [
  {
   "cell_type": "code",
   "execution_count": 1,
   "metadata": {
    "id": "b7VJu7nsa79e"
   },
   "outputs": [],
   "source": [
    "import pandas as pd\n",
    "import numpy as np\n",
    "import matplotlib.pyplot as plt"
   ]
  },
  {
   "cell_type": "code",
   "execution_count": 2,
   "metadata": {
    "colab": {
     "base_uri": "https://localhost:8080/",
     "height": 206
    },
    "id": "MjQX0K7Fbyht",
    "outputId": "c961662f-e49b-48c9-bebc-3125050f2f76"
   },
   "outputs": [
    {
     "data": {
      "text/html": [
       "<div>\n",
       "<style scoped>\n",
       "    .dataframe tbody tr th:only-of-type {\n",
       "        vertical-align: middle;\n",
       "    }\n",
       "\n",
       "    .dataframe tbody tr th {\n",
       "        vertical-align: top;\n",
       "    }\n",
       "\n",
       "    .dataframe thead th {\n",
       "        text-align: right;\n",
       "    }\n",
       "</style>\n",
       "<table border=\"1\" class=\"dataframe\">\n",
       "  <thead>\n",
       "    <tr style=\"text-align: right;\">\n",
       "      <th></th>\n",
       "      <th>gender</th>\n",
       "      <th>race/ethnicity</th>\n",
       "      <th>parental level of education</th>\n",
       "      <th>lunch</th>\n",
       "      <th>test preparation course</th>\n",
       "      <th>math score</th>\n",
       "      <th>reading score</th>\n",
       "      <th>writing score</th>\n",
       "    </tr>\n",
       "  </thead>\n",
       "  <tbody>\n",
       "    <tr>\n",
       "      <th>0</th>\n",
       "      <td>female</td>\n",
       "      <td>group B</td>\n",
       "      <td>bachelor's degree</td>\n",
       "      <td>standard</td>\n",
       "      <td>none</td>\n",
       "      <td>72</td>\n",
       "      <td>72</td>\n",
       "      <td>74</td>\n",
       "    </tr>\n",
       "    <tr>\n",
       "      <th>1</th>\n",
       "      <td>female</td>\n",
       "      <td>group C</td>\n",
       "      <td>some college</td>\n",
       "      <td>standard</td>\n",
       "      <td>completed</td>\n",
       "      <td>69</td>\n",
       "      <td>90</td>\n",
       "      <td>88</td>\n",
       "    </tr>\n",
       "    <tr>\n",
       "      <th>2</th>\n",
       "      <td>female</td>\n",
       "      <td>group B</td>\n",
       "      <td>master's degree</td>\n",
       "      <td>standard</td>\n",
       "      <td>none</td>\n",
       "      <td>90</td>\n",
       "      <td>95</td>\n",
       "      <td>93</td>\n",
       "    </tr>\n",
       "    <tr>\n",
       "      <th>3</th>\n",
       "      <td>male</td>\n",
       "      <td>group A</td>\n",
       "      <td>associate's degree</td>\n",
       "      <td>free/reduced</td>\n",
       "      <td>none</td>\n",
       "      <td>47</td>\n",
       "      <td>57</td>\n",
       "      <td>44</td>\n",
       "    </tr>\n",
       "    <tr>\n",
       "      <th>4</th>\n",
       "      <td>male</td>\n",
       "      <td>group C</td>\n",
       "      <td>some college</td>\n",
       "      <td>standard</td>\n",
       "      <td>none</td>\n",
       "      <td>76</td>\n",
       "      <td>78</td>\n",
       "      <td>75</td>\n",
       "    </tr>\n",
       "  </tbody>\n",
       "</table>\n",
       "</div>"
      ],
      "text/plain": [
       "   gender race/ethnicity parental level of education         lunch  \\\n",
       "0  female        group B           bachelor's degree      standard   \n",
       "1  female        group C                some college      standard   \n",
       "2  female        group B             master's degree      standard   \n",
       "3    male        group A          associate's degree  free/reduced   \n",
       "4    male        group C                some college      standard   \n",
       "\n",
       "  test preparation course  math score  reading score  writing score  \n",
       "0                    none          72             72             74  \n",
       "1               completed          69             90             88  \n",
       "2                    none          90             95             93  \n",
       "3                    none          47             57             44  \n",
       "4                    none          76             78             75  "
      ]
     },
     "execution_count": 2,
     "metadata": {},
     "output_type": "execute_result"
    }
   ],
   "source": [
    "dataset = pd.read_csv('StudentsPerformance.csv')\n",
    "dataset.head()"
   ]
  },
  {
   "cell_type": "code",
   "execution_count": 3,
   "metadata": {
    "colab": {
     "base_uri": "https://localhost:8080/"
    },
    "id": "p61oVIXtcAv0",
    "outputId": "13ad5a87-80d8-45f9-d17d-66891c6cafc6"
   },
   "outputs": [
    {
     "data": {
      "text/plain": [
       "gender                         0\n",
       "race/ethnicity                 0\n",
       "parental level of education    0\n",
       "lunch                          0\n",
       "test preparation course        0\n",
       "math score                     0\n",
       "reading score                  0\n",
       "writing score                  0\n",
       "dtype: int64"
      ]
     },
     "execution_count": 3,
     "metadata": {},
     "output_type": "execute_result"
    }
   ],
   "source": [
    "dataset.isna().sum()"
   ]
  },
  {
   "cell_type": "code",
   "execution_count": 4,
   "metadata": {
    "colab": {
     "base_uri": "https://localhost:8080/",
     "height": 279
    },
    "id": "79xeFmWudFBR",
    "outputId": "d8310a17-07b5-4102-a8a7-d53a22dbd8e8"
   },
   "outputs": [
    {
     "data": {
      "image/png": "[encoded data removed]",
      "text/plain": [
       "<Figure size 432x288 with 1 Axes>"
      ]
     },
     "metadata": {
      "needs_background": "light"
     },
     "output_type": "display_data"
    }
   ],
   "source": [
    "plt.hist(dataset['gender'])\n",
    "plt.xlabel(\"Gender\")\n",
    "plt.ylabel(\"Count\")\n",
    "plt.show()"
   ]
  },
  {
   "cell_type": "code",
   "execution_count": 5,
   "metadata": {
    "colab": {
     "base_uri": "https://localhost:8080/",
     "height": 279
    },
    "id": "0tU5hni_ePU_",
    "outputId": "eccd2dce-8393-4a99-97a8-c9b453c77515"
   },
   "outputs": [
    {
     "data": {
      "image/png": "[encoded data removed]",
      "text/plain": [
       "<Figure size 432x288 with 1 Axes>"
      ]
     },
     "metadata": {
      "needs_background": "light"
     },
     "output_type": "display_data"
    }
   ],
   "source": [
    "plt.hist(dataset['race/ethnicity'])\n",
    "plt.xlabel(\"Race\")\n",
    "plt.ylabel(\"Count\")\n",
    "plt.show()"
   ]
  },
  {
   "cell_type": "code",
   "execution_count": 6,
   "metadata": {
    "colab": {
     "base_uri": "https://localhost:8080/",
     "height": 352
    },
    "id": "JijbCxf-fIKQ",
    "outputId": "5f4e05ea-3ae7-4622-c5cd-95e8731bfd2b"
   },
   "outputs": [
    {
     "name": "stderr",
     "output_type": "stream",
     "text": [
      "C:\\Users\\Dell\\anaconda3\\lib\\site-packages\\IPython\\core\\pylabtools.py:151: UserWarning: Glyph 9 (\t) missing from current font.\n",
      "  fig.canvas.print_figure(bytes_io, **kw)\n"
     ]
    },
    {
     "data": {
      "image/png": "[encoded data removed]",
      "text/plain": [
       "<Figure size 432x288 with 1 Axes>"
      ]
     },
     "metadata": {
      "needs_background": "light"
     },
     "output_type": "display_data"
    }
   ],
   "source": [
    "plt.hist(dataset['parental level of education'])\n",
    "plt.xlabel(\"parental level of education\t\")\n",
    "plt.ylabel(\"Count\")\n",
    "plt.show()"
   ]
  },
  {
   "cell_type": "code",
   "execution_count": 7,
   "metadata": {
    "colab": {
     "base_uri": "https://localhost:8080/",
     "height": 279
    },
    "id": "5YtKPsvufR7t",
    "outputId": "3acae58f-28b1-4440-c4a6-d2bf67f3f584"
   },
   "outputs": [
    {
     "data": {
      "image/png": "[encoded data removed]",
      "text/plain": [
       "<Figure size 432x288 with 1 Axes>"
      ]
     },
     "metadata": {
      "needs_background": "light"
     },
     "output_type": "display_data"
    }
   ],
   "source": [
    "plt.hist(dataset['lunch'])\n",
    "plt.xlabel(\"Lunch\")\n",
    "plt.ylabel(\"Count\")\n",
    "plt.show()"
   ]
  },
  {
   "cell_type": "code",
   "execution_count": 8,
   "metadata": {
    "colab": {
     "base_uri": "https://localhost:8080/",
     "height": 279
    },
    "id": "qS94sftPfa5u",
    "outputId": "18862536-6977-4c19-d936-5b70fc3e3873"
   },
   "outputs": [
    {
     "data": {
      "image/png": "[encoded data removed]",
      "text/plain": [
       "<Figure size 432x288 with 1 Axes>"
      ]
     },
     "metadata": {
      "needs_background": "light"
     },
     "output_type": "display_data"
    }
   ],
   "source": [
    "plt.hist(dataset['test preparation course'])\n",
    "plt.xlabel(\"test preparation course\")\n",
    "plt.ylabel(\"Count\")\n",
    "plt.show()"
   ]
  },
  {
   "cell_type": "code",
   "execution_count": 9,
   "metadata": {
    "colab": {
     "base_uri": "https://localhost:8080/",
     "height": 265
    },
    "id": "K_LQlC4Dfh6v",
    "outputId": "694382f5-7048-4850-afd4-f529affd927f"
   },
   "outputs": [
    {
     "data": {
      "image/png": "[encoded data removed]",
      "text/plain": [
       "<Figure size 432x288 with 1 Axes>"
      ]
     },
     "metadata": {
      "needs_background": "light"
     },
     "output_type": "display_data"
    }
   ],
   "source": [
    "dataset['math score'].plot(kind=\"density\")\n",
    "plt.show()"
   ]
  },
  {
   "cell_type": "code",
   "execution_count": 10,
   "metadata": {
    "colab": {
     "base_uri": "https://localhost:8080/",
     "height": 265
    },
    "id": "JNU6VW2TflwT",
    "outputId": "e3d218c0-3b16-4f5b-dcb3-44bf7c2aec7f"
   },
   "outputs": [
    {
     "data": {
      "image/png": "[encoded data removed]",
      "text/plain": [
       "<Figure size 432x288 with 1 Axes>"
      ]
     },
     "metadata": {
      "needs_background": "light"
     },
     "output_type": "display_data"
    }
   ],
   "source": [
    "dataset['reading score'].plot(kind=\"density\")\n",
    "plt.show()"
   ]
  },
  {
   "cell_type": "code",
   "execution_count": 11,
   "metadata": {
    "colab": {
     "base_uri": "https://localhost:8080/",
     "height": 265
    },
    "id": "JwB_iTsrgIKw",
    "outputId": "34e472f8-5d5c-4b97-b568-858be7691166"
   },
   "outputs": [
    {
     "data": {
      "image/png": "[encoded data removed]",
      "text/plain": [
       "<Figure size 432x288 with 1 Axes>"
      ]
     },
     "metadata": {
      "needs_background": "light"
     },
     "output_type": "display_data"
    }
   ],
   "source": [
    "dataset['writing score'].plot(kind=\"density\")\n",
    "plt.show()"
   ]
  },
  {
   "cell_type": "code",
   "execution_count": 12,
   "metadata": {
    "colab": {
     "base_uri": "https://localhost:8080/"
    },
    "id": "22GyR9IGgWBo",
    "outputId": "685b332c-212e-42bb-c8aa-8186436d489a"
   },
   "outputs": [
    {
     "data": {
      "text/plain": [
       "(100, 100, 100)"
      ]
     },
     "execution_count": 12,
     "metadata": {},
     "output_type": "execute_result"
    }
   ],
   "source": [
    "dataset['math score'].max(), dataset['reading score'].max(), dataset['writing score'].max()"
   ]
  },
  {
   "cell_type": "code",
   "execution_count": 13,
   "metadata": {
    "colab": {
     "base_uri": "https://localhost:8080/"
    },
    "id": "3LfkOoGBgXph",
    "outputId": "9af895db-25ce-4ef6-db41-cecf072b6a1e"
   },
   "outputs": [
    {
     "data": {
      "text/plain": [
       "(0, 17, 10)"
      ]
     },
     "execution_count": 13,
     "metadata": {},
     "output_type": "execute_result"
    }
   ],
   "source": [
    "dataset['math score'].min(), dataset['reading score'].min(), dataset['writing score'].min()"
   ]
  },
  {
   "cell_type": "code",
   "execution_count": 14,
   "metadata": {
    "colab": {
     "base_uri": "https://localhost:8080/"
    },
    "id": "9k75f7Ptgj9G",
    "outputId": "33be5963-bcd3-4add-b9e2-a5e9754777f0"
   },
   "outputs": [
    {
     "data": {
      "text/plain": [
       "(1000, 8)"
      ]
     },
     "execution_count": 14,
     "metadata": {},
     "output_type": "execute_result"
    }
   ],
   "source": [
    "dataset.shape"
   ]
  },
  {
   "cell_type": "code",
   "execution_count": 15,
   "metadata": {
    "colab": {
     "base_uri": "https://localhost:8080/"
    },
    "id": "7cNbKpmIgrxP",
    "outputId": "74bfcf5c-c33c-4832-e8bc-d6ea123fd480"
   },
   "outputs": [
    {
     "data": {
      "text/plain": [
       "female    518\n",
       "male      482\n",
       "Name: gender, dtype: int64"
      ]
     },
     "execution_count": 15,
     "metadata": {},
     "output_type": "execute_result"
    }
   ],
   "source": [
    "dataset['gender'].value_counts()"
   ]
  },
  {
   "cell_type": "code",
   "execution_count": 16,
   "metadata": {
    "colab": {
     "base_uri": "https://localhost:8080/"
    },
    "id": "W_9XjiHxhC-H",
    "outputId": "d22fd845-13e8-4189-a180-f58d93c4ef7f"
   },
   "outputs": [
    {
     "data": {
      "text/plain": [
       "group C    319\n",
       "group D    262\n",
       "group B    190\n",
       "group E    140\n",
       "group A     89\n",
       "Name: race/ethnicity, dtype: int64"
      ]
     },
     "execution_count": 16,
     "metadata": {},
     "output_type": "execute_result"
    }
   ],
   "source": [
    "dataset['race/ethnicity'].value_counts()"
   ]
  },
  {
   "cell_type": "code",
   "execution_count": 17,
   "metadata": {
    "colab": {
     "base_uri": "https://localhost:8080/"
    },
    "id": "Fqe3ORxbhP69",
    "outputId": "37cca20a-d77a-4e4c-80dc-57ba829f2f98"
   },
   "outputs": [
    {
     "data": {
      "text/plain": [
       "some college          226\n",
       "associate's degree    222\n",
       "high school           196\n",
       "some high school      179\n",
       "bachelor's degree     118\n",
       "master's degree        59\n",
       "Name: parental level of education, dtype: int64"
      ]
     },
     "execution_count": 17,
     "metadata": {},
     "output_type": "execute_result"
    }
   ],
   "source": [
    "dataset['parental level of education'].value_counts()"
   ]
  },
  {
   "cell_type": "code",
   "execution_count": 18,
   "metadata": {
    "colab": {
     "base_uri": "https://localhost:8080/"
    },
    "id": "LT5Ax-rEhUZT",
    "outputId": "6e99f045-d24e-48bc-a96d-cb5524ab2d82"
   },
   "outputs": [
    {
     "data": {
      "text/plain": [
       "standard        645\n",
       "free/reduced    355\n",
       "Name: lunch, dtype: int64"
      ]
     },
     "execution_count": 18,
     "metadata": {},
     "output_type": "execute_result"
    }
   ],
   "source": [
    "dataset['lunch'].value_counts()"
   ]
  },
  {
   "cell_type": "code",
   "execution_count": 19,
   "metadata": {
    "colab": {
     "base_uri": "https://localhost:8080/"
    },
    "id": "XH2cw3zyhXtm",
    "outputId": "fc2f6b16-bee4-483b-cd98-162bc6c944ff"
   },
   "outputs": [
    {
     "data": {
      "text/plain": [
       "none         642\n",
       "completed    358\n",
       "Name: test preparation course, dtype: int64"
      ]
     },
     "execution_count": 19,
     "metadata": {},
     "output_type": "execute_result"
    }
   ],
   "source": [
    "dataset['test preparation course'].value_counts()"
   ]
  },
  {
   "cell_type": "code",
   "execution_count": 20,
   "metadata": {
    "id": "QxcC9eduhZ3q"
   },
   "outputs": [],
   "source": [
    "dataset_encoded = pd.get_dummies(dataset, columns=['gender', 'race/ethnicity', 'parental level of education', 'lunch', 'test preparation course'])"
   ]
  },
  {
   "cell_type": "code",
   "execution_count": 21,
   "metadata": {
    "colab": {
     "base_uri": "https://localhost:8080/",
     "height": 322
    },
    "id": "g5m3yMANiB5U",
    "outputId": "52d51cd5-b4ed-475b-d0d9-ac43fb4aac36"
   },
   "outputs": [
    {
     "data": {
      "text/html": [
       "<div>\n",
       "<style scoped>\n",
       "    .dataframe tbody tr th:only-of-type {\n",
       "        vertical-align: middle;\n",
       "    }\n",
       "\n",
       "    .dataframe tbody tr th {\n",
       "        vertical-align: top;\n",
       "    }\n",
       "\n",
       "    .dataframe thead th {\n",
       "        text-align: right;\n",
       "    }\n",
       "</style>\n",
       "<table border=\"1\" class=\"dataframe\">\n",
       "  <thead>\n",
       "    <tr style=\"text-align: right;\">\n",
       "      <th></th>\n",
       "      <th>math score</th>\n",
       "      <th>reading score</th>\n",
       "      <th>writing score</th>\n",
       "      <th>gender_female</th>\n",
       "      <th>gender_male</th>\n",
       "      <th>race/ethnicity_group A</th>\n",
       "      <th>race/ethnicity_group B</th>\n",
       "      <th>race/ethnicity_group C</th>\n",
       "      <th>race/ethnicity_group D</th>\n",
       "      <th>race/ethnicity_group E</th>\n",
       "      <th>parental level of education_associate's degree</th>\n",
       "      <th>parental level of education_bachelor's degree</th>\n",
       "      <th>parental level of education_high school</th>\n",
       "      <th>parental level of education_master's degree</th>\n",
       "      <th>parental level of education_some college</th>\n",
       "      <th>parental level of education_some high school</th>\n",
       "      <th>lunch_free/reduced</th>\n",
       "      <th>lunch_standard</th>\n",
       "      <th>test preparation course_completed</th>\n",
       "      <th>test preparation course_none</th>\n",
       "    </tr>\n",
       "  </thead>\n",
       "  <tbody>\n",
       "    <tr>\n",
       "      <th>0</th>\n",
       "      <td>72</td>\n",
       "      <td>72</td>\n",
       "      <td>74</td>\n",
       "      <td>1</td>\n",
       "      <td>0</td>\n",
       "      <td>0</td>\n",
       "      <td>1</td>\n",
       "      <td>0</td>\n",
       "      <td>0</td>\n",
       "      <td>0</td>\n",
       "      <td>0</td>\n",
       "      <td>1</td>\n",
       "      <td>0</td>\n",
       "      <td>0</td>\n",
       "      <td>0</td>\n",
       "      <td>0</td>\n",
       "      <td>0</td>\n",
       "      <td>1</td>\n",
       "      <td>0</td>\n",
       "      <td>1</td>\n",
       "    </tr>\n",
       "    <tr>\n",
       "      <th>1</th>\n",
       "      <td>69</td>\n",
       "      <td>90</td>\n",
       "      <td>88</td>\n",
       "      <td>1</td>\n",
       "      <td>0</td>\n",
       "      <td>0</td>\n",
       "      <td>0</td>\n",
       "      <td>1</td>\n",
       "      <td>0</td>\n",
       "      <td>0</td>\n",
       "      <td>0</td>\n",
       "      <td>0</td>\n",
       "      <td>0</td>\n",
       "      <td>0</td>\n",
       "      <td>1</td>\n",
       "      <td>0</td>\n",
       "      <td>0</td>\n",
       "      <td>1</td>\n",
       "      <td>1</td>\n",
       "      <td>0</td>\n",
       "    </tr>\n",
       "    <tr>\n",
       "      <th>2</th>\n",
       "      <td>90</td>\n",
       "      <td>95</td>\n",
       "      <td>93</td>\n",
       "      <td>1</td>\n",
       "      <td>0</td>\n",
       "      <td>0</td>\n",
       "      <td>1</td>\n",
       "      <td>0</td>\n",
       "      <td>0</td>\n",
       "      <td>0</td>\n",
       "      <td>0</td>\n",
       "      <td>0</td>\n",
       "      <td>0</td>\n",
       "      <td>1</td>\n",
       "      <td>0</td>\n",
       "      <td>0</td>\n",
       "      <td>0</td>\n",
       "      <td>1</td>\n",
       "      <td>0</td>\n",
       "      <td>1</td>\n",
       "    </tr>\n",
       "    <tr>\n",
       "      <th>3</th>\n",
       "      <td>47</td>\n",
       "      <td>57</td>\n",
       "      <td>44</td>\n",
       "      <td>0</td>\n",
       "      <td>1</td>\n",
       "      <td>1</td>\n",
       "      <td>0</td>\n",
       "      <td>0</td>\n",
       "      <td>0</td>\n",
       "      <td>0</td>\n",
       "      <td>1</td>\n",
       "      <td>0</td>\n",
       "      <td>0</td>\n",
       "      <td>0</td>\n",
       "      <td>0</td>\n",
       "      <td>0</td>\n",
       "      <td>1</td>\n",
       "      <td>0</td>\n",
       "      <td>0</td>\n",
       "      <td>1</td>\n",
       "    </tr>\n",
       "    <tr>\n",
       "      <th>4</th>\n",
       "      <td>76</td>\n",
       "      <td>78</td>\n",
       "      <td>75</td>\n",
       "      <td>0</td>\n",
       "      <td>1</td>\n",
       "      <td>0</td>\n",
       "      <td>0</td>\n",
       "      <td>1</td>\n",
       "      <td>0</td>\n",
       "      <td>0</td>\n",
       "      <td>0</td>\n",
       "      <td>0</td>\n",
       "      <td>0</td>\n",
       "      <td>0</td>\n",
       "      <td>1</td>\n",
       "      <td>0</td>\n",
       "      <td>0</td>\n",
       "      <td>1</td>\n",
       "      <td>0</td>\n",
       "      <td>1</td>\n",
       "    </tr>\n",
       "  </tbody>\n",
       "</table>\n",
       "</div>"
      ],
      "text/plain": [
       "   math score  reading score  writing score  gender_female  gender_male  \\\n",
       "0          72             72             74              1            0   \n",
       "1          69             90             88              1            0   \n",
       "2          90             95             93              1            0   \n",
       "3          47             57             44              0            1   \n",
       "4          76             78             75              0            1   \n",
       "\n",
       "   race/ethnicity_group A  race/ethnicity_group B  race/ethnicity_group C  \\\n",
       "0                       0                       1                       0   \n",
       "1                       0                       0                       1   \n",
       "2                       0                       1                       0   \n",
       "3                       1                       0                       0   \n",
       "4                       0                       0                       1   \n",
       "\n",
       "   race/ethnicity_group D  race/ethnicity_group E  \\\n",
       "0                       0                       0   \n",
       "1                       0                       0   \n",
       "2                       0                       0   \n",
       "3                       0                       0   \n",
       "4                       0                       0   \n",
       "\n",
       "   parental level of education_associate's degree  \\\n",
       "0                                               0   \n",
       "1                                               0   \n",
       "2                                               0   \n",
       "3                                               1   \n",
       "4                                               0   \n",
       "\n",
       "   parental level of education_bachelor's degree  \\\n",
       "0                                              1   \n",
       "1                                              0   \n",
       "2                                              0   \n",
       "3                                              0   \n",
       "4                                              0   \n",
       "\n",
       "   parental level of education_high school  \\\n",
       "0                                        0   \n",
       "1                                        0   \n",
       "2                                        0   \n",
       "3                                        0   \n",
       "4                                        0   \n",
       "\n",
       "   parental level of education_master's degree  \\\n",
       "0                                            0   \n",
       "1                                            0   \n",
       "2                                            1   \n",
       "3                                            0   \n",
       "4                                            0   \n",
       "\n",
       "   parental level of education_some college  \\\n",
       "0                                         0   \n",
       "1                                         1   \n",
       "2                                         0   \n",
       "3                                         0   \n",
       "4                                         1   \n",
       "\n",
       "   parental level of education_some high school  lunch_free/reduced  \\\n",
       "0                                             0                   0   \n",
       "1                                             0                   0   \n",
       "2                                             0                   0   \n",
       "3                                             0                   1   \n",
       "4                                             0                   0   \n",
       "\n",
       "   lunch_standard  test preparation course_completed  \\\n",
       "0               1                                  0   \n",
       "1               1                                  1   \n",
       "2               1                                  0   \n",
       "3               0                                  0   \n",
       "4               1                                  0   \n",
       "\n",
       "   test preparation course_none  \n",
       "0                             1  \n",
       "1                             0  \n",
       "2                             1  \n",
       "3                             1  \n",
       "4                             1  "
      ]
     },
     "execution_count": 21,
     "metadata": {},
     "output_type": "execute_result"
    }
   ],
   "source": [
    "dataset_encoded.head()"
   ]
  },
  {
   "cell_type": "code",
   "execution_count": 22,
   "metadata": {
    "id": "x3YmCjttiKgh"
   },
   "outputs": [],
   "source": [
    "dataset_reduced = dataset_encoded.drop(columns = ['gender_male', 'race/ethnicity_group E', 'parental level of education_some high school', 'lunch_free/reduced', 'test preparation course_none'])"
   ]
  },
  {
   "cell_type": "code",
   "execution_count": 23,
   "metadata": {
    "id": "dNfJuJnDi2qk"
   },
   "outputs": [],
   "source": [
    "dataset_math = dataset_reduced.drop(columns=['reading score', 'writing score'])\n",
    "dataset_reading = dataset_reduced.drop(columns=['math score', 'writing score'])\n",
    "dataset_writing = dataset_reduced.drop(columns=['reading score', 'math score'])"
   ]
  },
  {
   "cell_type": "code",
   "execution_count": 24,
   "metadata": {
    "colab": {
     "base_uri": "https://localhost:8080/",
     "height": 322
    },
    "id": "Hmd7bTdIjmfp",
    "outputId": "65f2ec56-dba5-42e6-df6e-f8cf292b5e1d"
   },
   "outputs": [
    {
     "data": {
      "text/html": [
       "<div>\n",
       "<style scoped>\n",
       "    .dataframe tbody tr th:only-of-type {\n",
       "        vertical-align: middle;\n",
       "    }\n",
       "\n",
       "    .dataframe tbody tr th {\n",
       "        vertical-align: top;\n",
       "    }\n",
       "\n",
       "    .dataframe thead th {\n",
       "        text-align: right;\n",
       "    }\n",
       "</style>\n",
       "<table border=\"1\" class=\"dataframe\">\n",
       "  <thead>\n",
       "    <tr style=\"text-align: right;\">\n",
       "      <th></th>\n",
       "      <th>math score</th>\n",
       "      <th>gender_female</th>\n",
       "      <th>race/ethnicity_group A</th>\n",
       "      <th>race/ethnicity_group B</th>\n",
       "      <th>race/ethnicity_group C</th>\n",
       "      <th>race/ethnicity_group D</th>\n",
       "      <th>parental level of education_associate's degree</th>\n",
       "      <th>parental level of education_bachelor's degree</th>\n",
       "      <th>parental level of education_high school</th>\n",
       "      <th>parental level of education_master's degree</th>\n",
       "      <th>parental level of education_some college</th>\n",
       "      <th>lunch_standard</th>\n",
       "      <th>test preparation course_completed</th>\n",
       "    </tr>\n",
       "  </thead>\n",
       "  <tbody>\n",
       "    <tr>\n",
       "      <th>0</th>\n",
       "      <td>72</td>\n",
       "      <td>1</td>\n",
       "      <td>0</td>\n",
       "      <td>1</td>\n",
       "      <td>0</td>\n",
       "      <td>0</td>\n",
       "      <td>0</td>\n",
       "      <td>1</td>\n",
       "      <td>0</td>\n",
       "      <td>0</td>\n",
       "      <td>0</td>\n",
       "      <td>1</td>\n",
       "      <td>0</td>\n",
       "    </tr>\n",
       "    <tr>\n",
       "      <th>1</th>\n",
       "      <td>69</td>\n",
       "      <td>1</td>\n",
       "      <td>0</td>\n",
       "      <td>0</td>\n",
       "      <td>1</td>\n",
       "      <td>0</td>\n",
       "      <td>0</td>\n",
       "      <td>0</td>\n",
       "      <td>0</td>\n",
       "      <td>0</td>\n",
       "      <td>1</td>\n",
       "      <td>1</td>\n",
       "      <td>1</td>\n",
       "    </tr>\n",
       "    <tr>\n",
       "      <th>2</th>\n",
       "      <td>90</td>\n",
       "      <td>1</td>\n",
       "      <td>0</td>\n",
       "      <td>1</td>\n",
       "      <td>0</td>\n",
       "      <td>0</td>\n",
       "      <td>0</td>\n",
       "      <td>0</td>\n",
       "      <td>0</td>\n",
       "      <td>1</td>\n",
       "      <td>0</td>\n",
       "      <td>1</td>\n",
       "      <td>0</td>\n",
       "    </tr>\n",
       "    <tr>\n",
       "      <th>3</th>\n",
       "      <td>47</td>\n",
       "      <td>0</td>\n",
       "      <td>1</td>\n",
       "      <td>0</td>\n",
       "      <td>0</td>\n",
       "      <td>0</td>\n",
       "      <td>1</td>\n",
       "      <td>0</td>\n",
       "      <td>0</td>\n",
       "      <td>0</td>\n",
       "      <td>0</td>\n",
       "      <td>0</td>\n",
       "      <td>0</td>\n",
       "    </tr>\n",
       "    <tr>\n",
       "      <th>4</th>\n",
       "      <td>76</td>\n",
       "      <td>0</td>\n",
       "      <td>0</td>\n",
       "      <td>0</td>\n",
       "      <td>1</td>\n",
       "      <td>0</td>\n",
       "      <td>0</td>\n",
       "      <td>0</td>\n",
       "      <td>0</td>\n",
       "      <td>0</td>\n",
       "      <td>1</td>\n",
       "      <td>1</td>\n",
       "      <td>0</td>\n",
       "    </tr>\n",
       "  </tbody>\n",
       "</table>\n",
       "</div>"
      ],
      "text/plain": [
       "   math score  gender_female  race/ethnicity_group A  race/ethnicity_group B  \\\n",
       "0          72              1                       0                       1   \n",
       "1          69              1                       0                       0   \n",
       "2          90              1                       0                       1   \n",
       "3          47              0                       1                       0   \n",
       "4          76              0                       0                       0   \n",
       "\n",
       "   race/ethnicity_group C  race/ethnicity_group D  \\\n",
       "0                       0                       0   \n",
       "1                       1                       0   \n",
       "2                       0                       0   \n",
       "3                       0                       0   \n",
       "4                       1                       0   \n",
       "\n",
       "   parental level of education_associate's degree  \\\n",
       "0                                               0   \n",
       "1                                               0   \n",
       "2                                               0   \n",
       "3                                               1   \n",
       "4                                               0   \n",
       "\n",
       "   parental level of education_bachelor's degree  \\\n",
       "0                                              1   \n",
       "1                                              0   \n",
       "2                                              0   \n",
       "3                                              0   \n",
       "4                                              0   \n",
       "\n",
       "   parental level of education_high school  \\\n",
       "0                                        0   \n",
       "1                                        0   \n",
       "2                                        0   \n",
       "3                                        0   \n",
       "4                                        0   \n",
       "\n",
       "   parental level of education_master's degree  \\\n",
       "0                                            0   \n",
       "1                                            0   \n",
       "2                                            1   \n",
       "3                                            0   \n",
       "4                                            0   \n",
       "\n",
       "   parental level of education_some college  lunch_standard  \\\n",
       "0                                         0               1   \n",
       "1                                         1               1   \n",
       "2                                         0               1   \n",
       "3                                         0               0   \n",
       "4                                         1               1   \n",
       "\n",
       "   test preparation course_completed  \n",
       "0                                  0  \n",
       "1                                  1  \n",
       "2                                  0  \n",
       "3                                  0  \n",
       "4                                  0  "
      ]
     },
     "execution_count": 24,
     "metadata": {},
     "output_type": "execute_result"
    }
   ],
   "source": [
    "dataset_math.head()"
   ]
  },
  {
   "cell_type": "markdown",
   "metadata": {
    "id": "4yIGYuDzjomb"
   },
   "source": [
    "## Training Math Model"
   ]
  },
  {
   "cell_type": "code",
   "execution_count": 25,
   "metadata": {
    "id": "Sk9K0HK_j6uW"
   },
   "outputs": [],
   "source": [
    "X_m, y_m = dataset_math.drop(columns='math score'), dataset_math['math score']"
   ]
  },
  {
   "cell_type": "code",
   "execution_count": 26,
   "metadata": {
    "colab": {
     "base_uri": "https://localhost:8080/",
     "height": 322
    },
    "id": "UbIeVPk1kaop",
    "outputId": "c378ca1b-90c7-43ab-b3d3-87b3d1adecbc"
   },
   "outputs": [
    {
     "data": {
      "text/html": [
       "<div>\n",
       "<style scoped>\n",
       "    .dataframe tbody tr th:only-of-type {\n",
       "        vertical-align: middle;\n",
       "    }\n",
       "\n",
       "    .dataframe tbody tr th {\n",
       "        vertical-align: top;\n",
       "    }\n",
       "\n",
       "    .dataframe thead th {\n",
       "        text-align: right;\n",
       "    }\n",
       "</style>\n",
       "<table border=\"1\" class=\"dataframe\">\n",
       "  <thead>\n",
       "    <tr style=\"text-align: right;\">\n",
       "      <th></th>\n",
       "      <th>gender_female</th>\n",
       "      <th>race/ethnicity_group A</th>\n",
       "      <th>race/ethnicity_group B</th>\n",
       "      <th>race/ethnicity_group C</th>\n",
       "      <th>race/ethnicity_group D</th>\n",
       "      <th>parental level of education_associate's degree</th>\n",
       "      <th>parental level of education_bachelor's degree</th>\n",
       "      <th>parental level of education_high school</th>\n",
       "      <th>parental level of education_master's degree</th>\n",
       "      <th>parental level of education_some college</th>\n",
       "      <th>lunch_standard</th>\n",
       "      <th>test preparation course_completed</th>\n",
       "    </tr>\n",
       "  </thead>\n",
       "  <tbody>\n",
       "    <tr>\n",
       "      <th>0</th>\n",
       "      <td>1</td>\n",
       "      <td>0</td>\n",
       "      <td>1</td>\n",
       "      <td>0</td>\n",
       "      <td>0</td>\n",
       "      <td>0</td>\n",
       "      <td>1</td>\n",
       "      <td>0</td>\n",
       "      <td>0</td>\n",
       "      <td>0</td>\n",
       "      <td>1</td>\n",
       "      <td>0</td>\n",
       "    </tr>\n",
       "    <tr>\n",
       "      <th>1</th>\n",
       "      <td>1</td>\n",
       "      <td>0</td>\n",
       "      <td>0</td>\n",
       "      <td>1</td>\n",
       "      <td>0</td>\n",
       "      <td>0</td>\n",
       "      <td>0</td>\n",
       "      <td>0</td>\n",
       "      <td>0</td>\n",
       "      <td>1</td>\n",
       "      <td>1</td>\n",
       "      <td>1</td>\n",
       "    </tr>\n",
       "    <tr>\n",
       "      <th>2</th>\n",
       "      <td>1</td>\n",
       "      <td>0</td>\n",
       "      <td>1</td>\n",
       "      <td>0</td>\n",
       "      <td>0</td>\n",
       "      <td>0</td>\n",
       "      <td>0</td>\n",
       "      <td>0</td>\n",
       "      <td>1</td>\n",
       "      <td>0</td>\n",
       "      <td>1</td>\n",
       "      <td>0</td>\n",
       "    </tr>\n",
       "    <tr>\n",
       "      <th>3</th>\n",
       "      <td>0</td>\n",
       "      <td>1</td>\n",
       "      <td>0</td>\n",
       "      <td>0</td>\n",
       "      <td>0</td>\n",
       "      <td>1</td>\n",
       "      <td>0</td>\n",
       "      <td>0</td>\n",
       "      <td>0</td>\n",
       "      <td>0</td>\n",
       "      <td>0</td>\n",
       "      <td>0</td>\n",
       "    </tr>\n",
       "    <tr>\n",
       "      <th>4</th>\n",
       "      <td>0</td>\n",
       "      <td>0</td>\n",
       "      <td>0</td>\n",
       "      <td>1</td>\n",
       "      <td>0</td>\n",
       "      <td>0</td>\n",
       "      <td>0</td>\n",
       "      <td>0</td>\n",
       "      <td>0</td>\n",
       "      <td>1</td>\n",
       "      <td>1</td>\n",
       "      <td>0</td>\n",
       "    </tr>\n",
       "  </tbody>\n",
       "</table>\n",
       "</div>"
      ],
      "text/plain": [
       "   gender_female  race/ethnicity_group A  race/ethnicity_group B  \\\n",
       "0              1                       0                       1   \n",
       "1              1                       0                       0   \n",
       "2              1                       0                       1   \n",
       "3              0                       1                       0   \n",
       "4              0                       0                       0   \n",
       "\n",
       "   race/ethnicity_group C  race/ethnicity_group D  \\\n",
       "0                       0                       0   \n",
       "1                       1                       0   \n",
       "2                       0                       0   \n",
       "3                       0                       0   \n",
       "4                       1                       0   \n",
       "\n",
       "   parental level of education_associate's degree  \\\n",
       "0                                               0   \n",
       "1                                               0   \n",
       "2                                               0   \n",
       "3                                               1   \n",
       "4                                               0   \n",
       "\n",
       "   parental level of education_bachelor's degree  \\\n",
       "0                                              1   \n",
       "1                                              0   \n",
       "2                                              0   \n",
       "3                                              0   \n",
       "4                                              0   \n",
       "\n",
       "   parental level of education_high school  \\\n",
       "0                                        0   \n",
       "1                                        0   \n",
       "2                                        0   \n",
       "3                                        0   \n",
       "4                                        0   \n",
       "\n",
       "   parental level of education_master's degree  \\\n",
       "0                                            0   \n",
       "1                                            0   \n",
       "2                                            1   \n",
       "3                                            0   \n",
       "4                                            0   \n",
       "\n",
       "   parental level of education_some college  lunch_standard  \\\n",
       "0                                         0               1   \n",
       "1                                         1               1   \n",
       "2                                         0               1   \n",
       "3                                         0               0   \n",
       "4                                         1               1   \n",
       "\n",
       "   test preparation course_completed  \n",
       "0                                  0  \n",
       "1                                  1  \n",
       "2                                  0  \n",
       "3                                  0  \n",
       "4                                  0  "
      ]
     },
     "execution_count": 26,
     "metadata": {},
     "output_type": "execute_result"
    }
   ],
   "source": [
    "X_m.head()"
   ]
  },
  {
   "cell_type": "code",
   "execution_count": 27,
   "metadata": {
    "colab": {
     "base_uri": "https://localhost:8080/"
    },
    "id": "GIFDsv9-kcOk",
    "outputId": "3117bacd-f7eb-432e-dc44-683663f969df"
   },
   "outputs": [
    {
     "data": {
      "text/plain": [
       "0    72\n",
       "1    69\n",
       "2    90\n",
       "3    47\n",
       "4    76\n",
       "Name: math score, dtype: int64"
      ]
     },
     "execution_count": 27,
     "metadata": {},
     "output_type": "execute_result"
    }
   ],
   "source": [
    "y_m.head()"
   ]
  },
  {
   "cell_type": "code",
   "execution_count": 28,
   "metadata": {
    "id": "R3EDbeETkenc"
   },
   "outputs": [],
   "source": [
    "from sklearn.model_selection import train_test_split\n",
    "\n",
    "X_train, X_test, y_train, y_test = train_test_split(X_m, y_m, test_size=0.20, random_state=13)"
   ]
  },
  {
   "cell_type": "code",
   "execution_count": 29,
   "metadata": {
    "colab": {
     "base_uri": "https://localhost:8080/"
    },
    "id": "lNZ53PN7mQGX",
    "outputId": "80f9187e-e6fc-43f4-cc7a-469a9e7960b7"
   },
   "outputs": [
    {
     "data": {
      "text/plain": [
       "((800, 12), (200, 12))"
      ]
     },
     "execution_count": 29,
     "metadata": {},
     "output_type": "execute_result"
    }
   ],
   "source": [
    "X_train.shape, X_test.shape"
   ]
  },
  {
   "cell_type": "code",
   "execution_count": 30,
   "metadata": {
    "colab": {
     "base_uri": "https://localhost:8080/"
    },
    "id": "bfs53qw6mU2j",
    "outputId": "2c7ab094-ad80-47e2-95c6-4e7d4abf61b4"
   },
   "outputs": [
    {
     "data": {
      "text/plain": [
       "((800,), (200,))"
      ]
     },
     "execution_count": 30,
     "metadata": {},
     "output_type": "execute_result"
    }
   ],
   "source": [
    "y_train.shape, y_test.shape"
   ]
  },
  {
   "cell_type": "code",
   "execution_count": 31,
   "metadata": {
    "id": "N7UjkaZ3mYT_"
   },
   "outputs": [],
   "source": [
    "from sklearn.linear_model import LinearRegression\n",
    "\n",
    "model1 = LinearRegression()"
   ]
  },
  {
   "cell_type": "code",
   "execution_count": 32,
   "metadata": {
    "colab": {
     "base_uri": "https://localhost:8080/"
    },
    "id": "itxo7Nzsmvip",
    "outputId": "a0d8d1f2-a7b5-4ac9-b648-2ddb40ac9689"
   },
   "outputs": [
    {
     "data": {
      "text/plain": [
       "LinearRegression()"
      ]
     },
     "execution_count": 32,
     "metadata": {},
     "output_type": "execute_result"
    }
   ],
   "source": [
    "model1.fit(X_train, y_train)"
   ]
  },
  {
   "cell_type": "code",
   "execution_count": 33,
   "metadata": {
    "id": "YwTjXUcxnS8I"
   },
   "outputs": [],
   "source": [
    "y_pred = model1.predict(X_test)"
   ]
  },
  {
   "cell_type": "code",
   "execution_count": 34,
   "metadata": {
    "id": "jOv-X-k3m17p"
   },
   "outputs": [],
   "source": [
    "from sklearn.metrics import mean_absolute_error, mean_squared_error, r2_score\n",
    "\n",
    "mae1 = mean_absolute_error(y_test, y_pred)\n",
    "mse1 = mean_squared_error(y_test, y_pred)\n",
    "r2_1 = r2_score(y_test, y_pred)"
   ]
  },
  {
   "cell_type": "code",
   "execution_count": 35,
   "metadata": {
    "colab": {
     "base_uri": "https://localhost:8080/"
    },
    "id": "RXMUbcA7m4Ah",
    "outputId": "159cf06e-4e86-47ac-faf1-3bb27ea8db6d"
   },
   "outputs": [
    {
     "data": {
      "text/plain": [
       "(10.718991398660217, 176.92403341348364, 0.1754437083705045)"
      ]
     },
     "execution_count": 35,
     "metadata": {},
     "output_type": "execute_result"
    }
   ],
   "source": [
    "mae1, mse1, r2_1"
   ]
  },
  {
   "cell_type": "code",
   "execution_count": 36,
   "metadata": {
    "id": "xRjHrEXYnxkS"
   },
   "outputs": [],
   "source": [
    "from sklearn.preprocessing import PolynomialFeatures\n",
    "\n",
    "poly_transform = PolynomialFeatures(2, interaction_only=True)\n",
    "X_train_poly = poly_transform.fit_transform(X_train)"
   ]
  },
  {
   "cell_type": "code",
   "execution_count": 37,
   "metadata": {
    "colab": {
     "base_uri": "https://localhost:8080/"
    },
    "id": "wW75V-x9odVo",
    "outputId": "793295db-ae0c-45e1-c0a4-b3c17ea105a7"
   },
   "outputs": [
    {
     "data": {
      "text/plain": [
       "array([[1., 1., 0., ..., 1., 1., 1.],\n",
       "       [1., 0., 0., ..., 0., 0., 0.],\n",
       "       [1., 1., 0., ..., 0., 0., 1.],\n",
       "       ...,\n",
       "       [1., 0., 0., ..., 0., 0., 0.],\n",
       "       [1., 1., 0., ..., 0., 0., 0.],\n",
       "       [1., 1., 0., ..., 0., 0., 0.]])"
      ]
     },
     "execution_count": 37,
     "metadata": {},
     "output_type": "execute_result"
    }
   ],
   "source": [
    "X_train_poly"
   ]
  },
  {
   "cell_type": "code",
   "execution_count": 38,
   "metadata": {
    "colab": {
     "base_uri": "https://localhost:8080/"
    },
    "id": "PzABQtymsaBm",
    "outputId": "68a79494-037c-4e7b-d11f-908f48d279e4"
   },
   "outputs": [
    {
     "data": {
      "text/plain": [
       "LinearRegression()"
      ]
     },
     "execution_count": 38,
     "metadata": {},
     "output_type": "execute_result"
    }
   ],
   "source": [
    "from sklearn.linear_model import LinearRegression\n",
    "\n",
    "model2 = LinearRegression()\n",
    "model2.fit(X_train_poly, y_train)"
   ]
  },
  {
   "cell_type": "code",
   "execution_count": 39,
   "metadata": {
    "id": "FV3vgg6ZseT_"
   },
   "outputs": [],
   "source": [
    "y_pred = model2.predict(poly_transform.fit_transform(X_test))"
   ]
  },
  {
   "cell_type": "code",
   "execution_count": 40,
   "metadata": {
    "colab": {
     "base_uri": "https://localhost:8080/"
    },
    "id": "fH8fGBLUtEva",
    "outputId": "8fa54dbd-f472-4a98-e421-da68861b6412"
   },
   "outputs": [
    {
     "data": {
      "text/plain": [
       "(11.148327930643791, 191.01973593429872, 0.10975054066325018)"
      ]
     },
     "execution_count": 40,
     "metadata": {},
     "output_type": "execute_result"
    }
   ],
   "source": [
    "from sklearn.metrics import mean_absolute_error, mean_squared_error, r2_score\n",
    "\n",
    "mae2 = mean_absolute_error(y_test, y_pred)\n",
    "mse2 = mean_squared_error(y_test, y_pred)\n",
    "r2_2 = r2_score(y_test, y_pred)\n",
    "mae2, mse2, r2_2"
   ]
  },
  {
   "cell_type": "code",
   "execution_count": 41,
   "metadata": {
    "colab": {
     "base_uri": "https://localhost:8080/"
    },
    "id": "DhzRiUdjtNPL",
    "outputId": "1a7a569b-f929-4cb1-e22a-569db1d0a0ad"
   },
   "outputs": [
    {
     "data": {
      "text/plain": [
       "SVR()"
      ]
     },
     "execution_count": 41,
     "metadata": {},
     "output_type": "execute_result"
    }
   ],
   "source": [
    "from sklearn.svm import SVR\n",
    "\n",
    "model3 = SVR()\n",
    "model3.fit(X_train, y_train)"
   ]
  },
  {
   "cell_type": "code",
   "execution_count": 42,
   "metadata": {
    "id": "QlaFz4q5t27W"
   },
   "outputs": [],
   "source": [
    "y_pred = model3.predict(X_test)"
   ]
  },
  {
   "cell_type": "code",
   "execution_count": 43,
   "metadata": {
    "colab": {
     "base_uri": "https://localhost:8080/"
    },
    "id": "sJd5gJRGt7XA",
    "outputId": "6278517f-1536-44d5-ac62-f8ef8686123e"
   },
   "outputs": [
    {
     "data": {
      "text/plain": [
       "(10.796435407620839, 182.77551063970066, 0.14817283810423654)"
      ]
     },
     "execution_count": 43,
     "metadata": {},
     "output_type": "execute_result"
    }
   ],
   "source": [
    "from sklearn.metrics import mean_absolute_error, mean_squared_error, r2_score\n",
    "\n",
    "mae3 = mean_absolute_error(y_test, y_pred)\n",
    "mse3 = mean_squared_error(y_test, y_pred)\n",
    "r2_3 = r2_score(y_test, y_pred)\n",
    "mae3, mse3, r2_3"
   ]
  },
  {
   "cell_type": "code",
   "execution_count": 44,
   "metadata": {
    "colab": {
     "base_uri": "https://localhost:8080/"
    },
    "id": "3bMqowJluJ3P",
    "outputId": "955f2f10-a829-4813-f14e-f81609bd63cf"
   },
   "outputs": [
    {
     "data": {
      "text/plain": [
       "SVR(kernel='linear')"
      ]
     },
     "execution_count": 44,
     "metadata": {},
     "output_type": "execute_result"
    }
   ],
   "source": [
    "model4 = SVR(kernel='linear')\n",
    "model4.fit(X_train, y_train)"
   ]
  },
  {
   "cell_type": "code",
   "execution_count": 45,
   "metadata": {
    "id": "eVdUzva8uWld"
   },
   "outputs": [],
   "source": [
    "y_pred = model4.predict(X_test)"
   ]
  },
  {
   "cell_type": "code",
   "execution_count": 46,
   "metadata": {
    "colab": {
     "base_uri": "https://localhost:8080/"
    },
    "id": "FmbNN2phuZk9",
    "outputId": "b3306657-eaa3-4a19-e487-ce2ef0e9d97f"
   },
   "outputs": [
    {
     "data": {
      "text/plain": [
       "(10.746903143098368, 180.94714681005712, 0.15669394668419434)"
      ]
     },
     "execution_count": 46,
     "metadata": {},
     "output_type": "execute_result"
    }
   ],
   "source": [
    "mae4 = mean_absolute_error(y_test, y_pred)\n",
    "mse4 = mean_squared_error(y_test, y_pred)\n",
    "r2_4 = r2_score(y_test, y_pred)\n",
    "mae4, mse4, r2_4"
   ]
  },
  {
   "cell_type": "code",
   "execution_count": 47,
   "metadata": {
    "colab": {
     "base_uri": "https://localhost:8080/"
    },
    "id": "wAC1HN2zueCy",
    "outputId": "e37c2fb2-4388-493a-d749-c605a5121bbe"
   },
   "outputs": [
    {
     "data": {
      "text/plain": [
       "SVR(kernel='sigmoid')"
      ]
     },
     "execution_count": 47,
     "metadata": {},
     "output_type": "execute_result"
    }
   ],
   "source": [
    "model5 = SVR(kernel='sigmoid')\n",
    "model5.fit(X_train, y_train)"
   ]
  },
  {
   "cell_type": "code",
   "execution_count": 48,
   "metadata": {
    "id": "c7j_k_r6vYY3"
   },
   "outputs": [],
   "source": [
    "y_pred = model5.predict(X_test)"
   ]
  },
  {
   "cell_type": "code",
   "execution_count": 49,
   "metadata": {
    "colab": {
     "base_uri": "https://localhost:8080/"
    },
    "id": "ZTQ9yKLnvctv",
    "outputId": "262f2f0a-b35c-4ef8-d64d-6bdd9ddaa8ab"
   },
   "outputs": [
    {
     "data": {
      "text/plain": [
       "(10.660028483887766, 183.8402108520017, 0.14321079172865825)"
      ]
     },
     "execution_count": 49,
     "metadata": {},
     "output_type": "execute_result"
    }
   ],
   "source": [
    "mae5 = mean_absolute_error(y_test, y_pred)\n",
    "mse5 = mean_squared_error(y_test, y_pred)\n",
    "r2_5 = r2_score(y_test, y_pred)\n",
    "mae5, mse5, r2_5"
   ]
  },
  {
   "cell_type": "code",
   "execution_count": 50,
   "metadata": {
    "colab": {
     "base_uri": "https://localhost:8080/"
    },
    "id": "yzJExlXpvh1T",
    "outputId": "f69dce53-04c0-4f36-9709-cba976eb0e9f"
   },
   "outputs": [
    {
     "data": {
      "text/plain": [
       "(10.997702174251216, 182.68442193563658, 0.1485973579537072)"
      ]
     },
     "execution_count": 50,
     "metadata": {},
     "output_type": "execute_result"
    }
   ],
   "source": [
    "model6 = SVR(kernel='poly')\n",
    "model6.fit(X_train, y_train)\n",
    "y_pred = model6.predict(X_test)\n",
    "\n",
    "mae6 = mean_absolute_error(y_test, y_pred)\n",
    "mse6 = mean_squared_error(y_test, y_pred)\n",
    "r2_6 = r2_score(y_test, y_pred)\n",
    "mae6, mse6, r2_6"
   ]
  },
  {
   "cell_type": "code",
   "execution_count": 51,
   "metadata": {
    "colab": {
     "base_uri": "https://localhost:8080/"
    },
    "id": "xGYcJzZivwuL",
    "outputId": "bbc6f675-2c49-4e7f-b4ea-9d37f3c6afeb"
   },
   "outputs": [
    {
     "data": {
      "text/plain": [
       "(11.141675346544869, 188.92948363676973, 0.11949218316239296)"
      ]
     },
     "execution_count": 51,
     "metadata": {},
     "output_type": "execute_result"
    }
   ],
   "source": [
    "model7 = SVR(kernel='poly', degree=4)\n",
    "model7.fit(X_train, y_train)\n",
    "y_pred = model7.predict(X_test)\n",
    "\n",
    "mae7 = mean_absolute_error(y_test, y_pred)\n",
    "mse7 = mean_squared_error(y_test, y_pred)\n",
    "r2_7 = r2_score(y_test, y_pred)\n",
    "mae7, mse7, r2_7"
   ]
  },
  {
   "cell_type": "code",
   "execution_count": 52,
   "metadata": {
    "colab": {
     "base_uri": "https://localhost:8080/"
    },
    "id": "PdpZLVPfwL6J",
    "outputId": "4a8801ce-eefa-4b8a-d512-7044a77868bf"
   },
   "outputs": [
    {
     "data": {
      "text/plain": [
       "(11.448657994892415, 201.79464212129105, 0.059533978691489464)"
      ]
     },
     "execution_count": 52,
     "metadata": {},
     "output_type": "execute_result"
    }
   ],
   "source": [
    "model8 = SVR(kernel='poly', degree=5)\n",
    "model8.fit(X_train, y_train)\n",
    "y_pred = model8.predict(X_test)\n",
    "\n",
    "mae8 = mean_absolute_error(y_test, y_pred)\n",
    "mse8 = mean_squared_error(y_test, y_pred)\n",
    "r2_8 = r2_score(y_test, y_pred)\n",
    "mae8, mse8, r2_8"
   ]
  },
  {
   "cell_type": "code",
   "execution_count": 53,
   "metadata": {
    "id": "lJLP0KriwS8i"
   },
   "outputs": [],
   "source": [
    "import tensorflow as tf"
   ]
  },
  {
   "cell_type": "code",
   "execution_count": 54,
   "metadata": {
    "colab": {
     "base_uri": "https://localhost:8080/"
    },
    "id": "KGIJCBJSxBlU",
    "outputId": "052abafc-16df-447b-bbc3-a8b99d0fbb0b"
   },
   "outputs": [
    {
     "data": {
      "text/plain": [
       "(800, 12)"
      ]
     },
     "execution_count": 54,
     "metadata": {},
     "output_type": "execute_result"
    }
   ],
   "source": [
    "X_train.shape"
   ]
  },
  {
   "cell_type": "code",
   "execution_count": 55,
   "metadata": {
    "colab": {
     "base_uri": "https://localhost:8080/",
     "height": 990
    },
    "id": "ZHOw-zvIwc0S",
    "outputId": "d272bee2-05df-4b8b-84a5-3126a0c5aadb"
   },
   "outputs": [
    {
     "name": "stdout",
     "output_type": "stream",
     "text": [
      "Model: \"sequential\"\n",
      "_________________________________________________________________\n",
      " Layer (type)                Output Shape              Param #   \n",
      "=================================================================\n",
      " dense (Dense)               (None, 1)                 13        \n",
      "                                                                 \n",
      " dense_1 (Dense)             (None, 32)                64        \n",
      "                                                                 \n",
      " dense_2 (Dense)             (None, 16)                528       \n",
      "                                                                 \n",
      " dense_3 (Dense)             (None, 8)                 136       \n",
      "                                                                 \n",
      " dense_4 (Dense)             (None, 1)                 9         \n",
      "                                                                 \n",
      "=================================================================\n",
      "Total params: 750\n",
      "Trainable params: 750\n",
      "Non-trainable params: 0\n",
      "_________________________________________________________________\n",
      "You must install pydot (`pip install pydot`) and install graphviz (see instructions at https://graphviz.gitlab.io/download/) for plot_model/model_to_dot to work.\n"
     ]
    }
   ],
   "source": [
    "# Creating the neural network\n",
    "tf.random.set_seed(42)\n",
    "\n",
    "# 1. Creating the model\n",
    "model9 = tf.keras.Sequential([\n",
    "    tf.keras.layers.Dense(1, input_shape=[12]),\n",
    "    tf.keras.layers.Dense(32),\n",
    "    tf.keras.layers.Dense(16),\n",
    "    tf.keras.layers.Dense(8),\n",
    "    tf.keras.layers.Dense(1)\n",
    "])\n",
    "\n",
    "# 2. Compiling the model\n",
    "model9.compile(loss=tf.keras.losses.mae,\n",
    "              optimizer=tf.keras.optimizers.Adam(),\n",
    "              metrics=[\"mae\"])\n",
    "\n",
    "# Visualizing the model\n",
    "model9.summary()\n",
    "\n",
    "tf.keras.utils.plot_model(model=model9, show_shapes=True)"
   ]
  },
  {
   "cell_type": "code",
   "execution_count": 56,
   "metadata": {
    "colab": {
     "base_uri": "https://localhost:8080/"
    },
    "id": "FzCR8B6UxJJ3",
    "outputId": "fbad30b8-9e77-44f2-8956-02c469a2344f"
   },
   "outputs": [
    {
     "name": "stdout",
     "output_type": "stream",
     "text": [
      "Epoch 1/100\n",
      "25/25 [==============================] - 2s 2ms/step - loss: 65.6843 - mae: 65.6843\n",
      "Epoch 2/100\n",
      "25/25 [==============================] - 0s 2ms/step - loss: 64.5294 - mae: 64.5294\n",
      "Epoch 3/100\n",
      "25/25 [==============================] - 0s 2ms/step - loss: 61.0389 - mae: 61.0389\n",
      "Epoch 4/100\n",
      "25/25 [==============================] - 0s 2ms/step - loss: 51.2876 - mae: 51.2876\n",
      "Epoch 5/100\n",
      "25/25 [==============================] - 0s 2ms/step - loss: 29.9279 - mae: 29.9279\n",
      "Epoch 6/100\n",
      "25/25 [==============================] - 0s 2ms/step - loss: 18.6242 - mae: 18.6242\n",
      "Epoch 7/100\n",
      "25/25 [==============================] - 0s 2ms/step - loss: 16.9862 - mae: 16.9862\n",
      "Epoch 8/100\n",
      "25/25 [==============================] - 0s 2ms/step - loss: 15.8915 - mae: 15.8915\n",
      "Epoch 9/100\n",
      "25/25 [==============================] - 0s 2ms/step - loss: 15.0035 - mae: 15.0035\n",
      "Epoch 10/100\n",
      "25/25 [==============================] - 0s 3ms/step - loss: 14.3836 - mae: 14.3836\n",
      "Epoch 11/100\n",
      "25/25 [==============================] - 0s 3ms/step - loss: 13.9637 - mae: 13.9637\n",
      "Epoch 12/100\n",
      "25/25 [==============================] - 0s 2ms/step - loss: 13.5259 - mae: 13.5259\n",
      "Epoch 13/100\n",
      "25/25 [==============================] - 0s 2ms/step - loss: 13.2009 - mae: 13.2009\n",
      "Epoch 14/100\n",
      "25/25 [==============================] - 0s 2ms/step - loss: 12.9234 - mae: 12.9234\n",
      "Epoch 15/100\n",
      "25/25 [==============================] - 0s 2ms/step - loss: 12.7531 - mae: 12.7531\n",
      "Epoch 16/100\n",
      "25/25 [==============================] - 0s 2ms/step - loss: 12.5687 - mae: 12.5687\n",
      "Epoch 17/100\n",
      "25/25 [==============================] - 0s 3ms/step - loss: 12.4224 - mae: 12.4224\n",
      "Epoch 18/100\n",
      "25/25 [==============================] - 0s 2ms/step - loss: 12.3375 - mae: 12.3375\n",
      "Epoch 19/100\n",
      "25/25 [==============================] - 0s 2ms/step - loss: 12.2885 - mae: 12.2885\n",
      "Epoch 20/100\n",
      "25/25 [==============================] - 0s 3ms/step - loss: 12.1309 - mae: 12.1309\n",
      "Epoch 21/100\n",
      "25/25 [==============================] - 0s 3ms/step - loss: 12.0462 - mae: 12.0462\n",
      "Epoch 22/100\n",
      "25/25 [==============================] - 0s 3ms/step - loss: 12.0002 - mae: 12.0002\n",
      "Epoch 23/100\n",
      "25/25 [==============================] - 0s 2ms/step - loss: 11.9189 - mae: 11.9189\n",
      "Epoch 24/100\n",
      "25/25 [==============================] - 0s 3ms/step - loss: 11.8769 - mae: 11.8769\n",
      "Epoch 25/100\n",
      "25/25 [==============================] - 0s 3ms/step - loss: 11.8229 - mae: 11.8229\n",
      "Epoch 26/100\n",
      "25/25 [==============================] - 0s 2ms/step - loss: 11.7777 - mae: 11.7777\n",
      "Epoch 27/100\n",
      "25/25 [==============================] - 0s 2ms/step - loss: 11.7400 - mae: 11.7400\n",
      "Epoch 28/100\n",
      "25/25 [==============================] - 0s 3ms/step - loss: 11.6877 - mae: 11.6877\n",
      "Epoch 29/100\n",
      "25/25 [==============================] - 0s 3ms/step - loss: 11.6818 - mae: 11.6818\n",
      "Epoch 30/100\n",
      "25/25 [==============================] - 0s 3ms/step - loss: 11.6603 - mae: 11.6603\n",
      "Epoch 31/100\n",
      "25/25 [==============================] - 0s 3ms/step - loss: 11.6460 - mae: 11.6460\n",
      "Epoch 32/100\n",
      "25/25 [==============================] - 0s 3ms/step - loss: 11.5782 - mae: 11.5782\n",
      "Epoch 33/100\n",
      "25/25 [==============================] - 0s 2ms/step - loss: 11.5481 - mae: 11.5481\n",
      "Epoch 34/100\n",
      "25/25 [==============================] - 0s 3ms/step - loss: 11.5266 - mae: 11.5266\n",
      "Epoch 35/100\n",
      "25/25 [==============================] - 0s 2ms/step - loss: 11.4979 - mae: 11.4979\n",
      "Epoch 36/100\n",
      "25/25 [==============================] - 0s 3ms/step - loss: 11.5051 - mae: 11.5051\n",
      "Epoch 37/100\n",
      "25/25 [==============================] - 0s 3ms/step - loss: 11.4678 - mae: 11.4678\n",
      "Epoch 38/100\n",
      "25/25 [==============================] - 0s 2ms/step - loss: 11.4412 - mae: 11.4412\n",
      "Epoch 39/100\n",
      "25/25 [==============================] - 0s 2ms/step - loss: 11.4524 - mae: 11.4524\n",
      "Epoch 40/100\n",
      "25/25 [==============================] - 0s 2ms/step - loss: 11.3934 - mae: 11.3934\n",
      "Epoch 41/100\n",
      "25/25 [==============================] - 0s 3ms/step - loss: 11.3589 - mae: 11.3589\n",
      "Epoch 42/100\n",
      "25/25 [==============================] - 0s 3ms/step - loss: 11.3571 - mae: 11.3571\n",
      "Epoch 43/100\n",
      "25/25 [==============================] - 0s 2ms/step - loss: 11.3772 - mae: 11.3772\n",
      "Epoch 44/100\n",
      "25/25 [==============================] - 0s 3ms/step - loss: 11.3603 - mae: 11.3603\n",
      "Epoch 45/100\n",
      "25/25 [==============================] - 0s 2ms/step - loss: 11.3087 - mae: 11.3087\n",
      "Epoch 46/100\n",
      "25/25 [==============================] - 0s 2ms/step - loss: 11.3029 - mae: 11.3029\n",
      "Epoch 47/100\n",
      "25/25 [==============================] - 0s 2ms/step - loss: 11.2467 - mae: 11.2467\n",
      "Epoch 48/100\n",
      "25/25 [==============================] - 0s 3ms/step - loss: 11.3144 - mae: 11.3144\n",
      "Epoch 49/100\n",
      "25/25 [==============================] - 0s 3ms/step - loss: 11.2289 - mae: 11.2289\n",
      "Epoch 50/100\n",
      "25/25 [==============================] - 0s 2ms/step - loss: 11.3757 - mae: 11.3757\n",
      "Epoch 51/100\n",
      "25/25 [==============================] - 0s 2ms/step - loss: 11.2644 - mae: 11.2644\n",
      "Epoch 52/100\n",
      "25/25 [==============================] - 0s 3ms/step - loss: 11.2217 - mae: 11.2217\n",
      "Epoch 53/100\n",
      "25/25 [==============================] - 0s 2ms/step - loss: 11.1998 - mae: 11.1998\n",
      "Epoch 54/100\n",
      "25/25 [==============================] - 0s 2ms/step - loss: 11.1979 - mae: 11.1979\n",
      "Epoch 55/100\n",
      "25/25 [==============================] - 0s 3ms/step - loss: 11.2071 - mae: 11.2071\n",
      "Epoch 56/100\n",
      "25/25 [==============================] - 0s 2ms/step - loss: 11.1818 - mae: 11.1818\n",
      "Epoch 57/100\n",
      "25/25 [==============================] - 0s 2ms/step - loss: 11.1497 - mae: 11.1497\n",
      "Epoch 58/100\n",
      "25/25 [==============================] - 0s 2ms/step - loss: 11.1699 - mae: 11.1699\n",
      "Epoch 59/100\n",
      "25/25 [==============================] - 0s 2ms/step - loss: 11.1381 - mae: 11.1381\n",
      "Epoch 60/100\n",
      "25/25 [==============================] - 0s 2ms/step - loss: 11.1213 - mae: 11.1213\n",
      "Epoch 61/100\n",
      "25/25 [==============================] - 0s 2ms/step - loss: 11.1350 - mae: 11.1350\n",
      "Epoch 62/100\n",
      "25/25 [==============================] - 0s 3ms/step - loss: 11.1551 - mae: 11.1551\n",
      "Epoch 63/100\n",
      "25/25 [==============================] - 0s 2ms/step - loss: 11.0891 - mae: 11.0891\n",
      "Epoch 64/100\n",
      "25/25 [==============================] - 0s 2ms/step - loss: 11.0765 - mae: 11.0765\n",
      "Epoch 65/100\n",
      "25/25 [==============================] - 0s 2ms/step - loss: 11.0808 - mae: 11.0808\n",
      "Epoch 66/100\n",
      "25/25 [==============================] - 0s 2ms/step - loss: 11.0614 - mae: 11.0614\n",
      "Epoch 67/100\n",
      "25/25 [==============================] - 0s 3ms/step - loss: 11.1214 - mae: 11.1214\n",
      "Epoch 68/100\n",
      "25/25 [==============================] - 0s 2ms/step - loss: 11.0519 - mae: 11.0519\n",
      "Epoch 69/100\n",
      "25/25 [==============================] - 0s 2ms/step - loss: 11.0984 - mae: 11.0984\n",
      "Epoch 70/100\n",
      "25/25 [==============================] - 0s 2ms/step - loss: 11.0829 - mae: 11.0829\n",
      "Epoch 71/100\n",
      "25/25 [==============================] - 0s 3ms/step - loss: 11.0553 - mae: 11.0553\n",
      "Epoch 72/100\n",
      "25/25 [==============================] - 0s 2ms/step - loss: 11.0145 - mae: 11.0145\n",
      "Epoch 73/100\n",
      "25/25 [==============================] - 0s 2ms/step - loss: 11.0110 - mae: 11.0110\n",
      "Epoch 74/100\n",
      "25/25 [==============================] - 0s 2ms/step - loss: 11.0143 - mae: 11.0143\n",
      "Epoch 75/100\n",
      "25/25 [==============================] - 0s 2ms/step - loss: 11.0603 - mae: 11.0603\n",
      "Epoch 76/100\n",
      "25/25 [==============================] - 0s 2ms/step - loss: 11.0178 - mae: 11.0178\n",
      "Epoch 77/100\n",
      "25/25 [==============================] - 0s 2ms/step - loss: 10.9947 - mae: 10.9947\n",
      "Epoch 78/100\n",
      "25/25 [==============================] - 0s 2ms/step - loss: 10.9738 - mae: 10.9738\n",
      "Epoch 79/100\n",
      "25/25 [==============================] - 0s 2ms/step - loss: 10.9620 - mae: 10.9620\n",
      "Epoch 80/100\n",
      "25/25 [==============================] - 0s 2ms/step - loss: 10.9789 - mae: 10.9789\n",
      "Epoch 81/100\n",
      "25/25 [==============================] - 0s 2ms/step - loss: 10.9631 - mae: 10.9631\n",
      "Epoch 82/100\n",
      "25/25 [==============================] - 0s 2ms/step - loss: 10.9751 - mae: 10.9751\n",
      "Epoch 83/100\n",
      "25/25 [==============================] - 0s 2ms/step - loss: 10.9327 - mae: 10.9327\n",
      "Epoch 84/100\n",
      "25/25 [==============================] - 0s 2ms/step - loss: 10.9402 - mae: 10.9402\n",
      "Epoch 85/100\n"
     ]
    },
    {
     "name": "stdout",
     "output_type": "stream",
     "text": [
      "25/25 [==============================] - 0s 2ms/step - loss: 10.9999 - mae: 10.9999\n",
      "Epoch 86/100\n",
      "25/25 [==============================] - 0s 3ms/step - loss: 10.9259 - mae: 10.9259\n",
      "Epoch 87/100\n",
      "25/25 [==============================] - 0s 2ms/step - loss: 11.0025 - mae: 11.0025\n",
      "Epoch 88/100\n",
      "25/25 [==============================] - 0s 2ms/step - loss: 10.9052 - mae: 10.9052\n",
      "Epoch 89/100\n",
      "25/25 [==============================] - 0s 2ms/step - loss: 10.9128 - mae: 10.9128\n",
      "Epoch 90/100\n",
      "25/25 [==============================] - 0s 2ms/step - loss: 10.9195 - mae: 10.9195\n",
      "Epoch 91/100\n",
      "25/25 [==============================] - 0s 2ms/step - loss: 10.8847 - mae: 10.8847\n",
      "Epoch 92/100\n",
      "25/25 [==============================] - 0s 2ms/step - loss: 10.8882 - mae: 10.8882\n",
      "Epoch 93/100\n",
      "25/25 [==============================] - 0s 2ms/step - loss: 10.8808 - mae: 10.8808\n",
      "Epoch 94/100\n",
      "25/25 [==============================] - 0s 2ms/step - loss: 10.8733 - mae: 10.8733\n",
      "Epoch 95/100\n",
      "25/25 [==============================] - 0s 2ms/step - loss: 10.8872 - mae: 10.8872\n",
      "Epoch 96/100\n",
      "25/25 [==============================] - 0s 2ms/step - loss: 10.9034 - mae: 10.9034\n",
      "Epoch 97/100\n",
      "25/25 [==============================] - 0s 3ms/step - loss: 10.8623 - mae: 10.8623\n",
      "Epoch 98/100\n",
      "25/25 [==============================] - 0s 2ms/step - loss: 10.8597 - mae: 10.8597\n",
      "Epoch 99/100\n",
      "25/25 [==============================] - 0s 2ms/step - loss: 10.9030 - mae: 10.9030\n",
      "Epoch 100/100\n",
      "25/25 [==============================] - 0s 3ms/step - loss: 10.8923 - mae: 10.8923\n"
     ]
    }
   ],
   "source": [
    "history = model9.fit(X_train, y_train, epochs=100)"
   ]
  },
  {
   "cell_type": "code",
   "execution_count": 57,
   "metadata": {
    "colab": {
     "base_uri": "https://localhost:8080/",
     "height": 279
    },
    "id": "zz4k3NL_xmqo",
    "outputId": "82392a56-23dd-49f9-da88-a2276e0188e8"
   },
   "outputs": [
    {
     "data": {
      "image/png": "[encoded data removed]",
      "text/plain": [
       "<Figure size 432x288 with 1 Axes>"
      ]
     },
     "metadata": {
      "needs_background": "light"
     },
     "output_type": "display_data"
    }
   ],
   "source": [
    "# Ploting history curve\n",
    "\n",
    "pd.DataFrame(history.history).plot()\n",
    "plt.ylabel('loss')\n",
    "plt.xlabel('epochs')\n",
    "plt.show()"
   ]
  },
  {
   "cell_type": "code",
   "execution_count": 58,
   "metadata": {
    "colab": {
     "base_uri": "https://localhost:8080/"
    },
    "id": "FKA-fs8z0_Oj",
    "outputId": "98708451-b37f-46fa-e1b1-8d58ea88a4d3"
   },
   "outputs": [
    {
     "name": "stdout",
     "output_type": "stream",
     "text": [
      "7/7 [==============================] - 0s 1ms/step\n"
     ]
    },
    {
     "data": {
      "text/plain": [
       "(10.944607048034667, 187.16590913455366, 0.1277113404103014)"
      ]
     },
     "execution_count": 58,
     "metadata": {},
     "output_type": "execute_result"
    }
   ],
   "source": [
    "y_pred = model9.predict(X_test)\n",
    "\n",
    "mae9 = mean_absolute_error(y_test, y_pred)\n",
    "mse9 = mean_squared_error(y_test, y_pred)\n",
    "r2_9 = r2_score(y_test, y_pred)\n",
    "mae9, mse9, r2_9"
   ]
  },
  {
   "cell_type": "code",
   "execution_count": 59,
   "metadata": {
    "colab": {
     "base_uri": "https://localhost:8080/",
     "height": 331
    },
    "id": "7vHh3SSH5Cks",
    "outputId": "aa529a01-7c9d-483f-89a1-fc83b77f7d18"
   },
   "outputs": [
    {
     "data": {
      "text/html": [
       "<div>\n",
       "<style scoped>\n",
       "    .dataframe tbody tr th:only-of-type {\n",
       "        vertical-align: middle;\n",
       "    }\n",
       "\n",
       "    .dataframe tbody tr th {\n",
       "        vertical-align: top;\n",
       "    }\n",
       "\n",
       "    .dataframe thead th {\n",
       "        text-align: right;\n",
       "    }\n",
       "</style>\n",
       "<table border=\"1\" class=\"dataframe\">\n",
       "  <thead>\n",
       "    <tr style=\"text-align: right;\">\n",
       "      <th></th>\n",
       "      <th>mae</th>\n",
       "      <th>mse</th>\n",
       "      <th>r2</th>\n",
       "    </tr>\n",
       "  </thead>\n",
       "  <tbody>\n",
       "    <tr>\n",
       "      <th>0</th>\n",
       "      <td>10.718991</td>\n",
       "      <td>176.924033</td>\n",
       "      <td>0.175444</td>\n",
       "    </tr>\n",
       "    <tr>\n",
       "      <th>1</th>\n",
       "      <td>11.148328</td>\n",
       "      <td>191.019736</td>\n",
       "      <td>0.109751</td>\n",
       "    </tr>\n",
       "    <tr>\n",
       "      <th>2</th>\n",
       "      <td>10.796435</td>\n",
       "      <td>182.775511</td>\n",
       "      <td>0.148173</td>\n",
       "    </tr>\n",
       "    <tr>\n",
       "      <th>3</th>\n",
       "      <td>10.746903</td>\n",
       "      <td>180.947147</td>\n",
       "      <td>0.156694</td>\n",
       "    </tr>\n",
       "    <tr>\n",
       "      <th>4</th>\n",
       "      <td>10.660028</td>\n",
       "      <td>183.840211</td>\n",
       "      <td>0.143211</td>\n",
       "    </tr>\n",
       "    <tr>\n",
       "      <th>5</th>\n",
       "      <td>10.997702</td>\n",
       "      <td>182.684422</td>\n",
       "      <td>0.148597</td>\n",
       "    </tr>\n",
       "    <tr>\n",
       "      <th>6</th>\n",
       "      <td>11.141675</td>\n",
       "      <td>188.929484</td>\n",
       "      <td>0.119492</td>\n",
       "    </tr>\n",
       "    <tr>\n",
       "      <th>7</th>\n",
       "      <td>11.448658</td>\n",
       "      <td>201.794642</td>\n",
       "      <td>0.059534</td>\n",
       "    </tr>\n",
       "    <tr>\n",
       "      <th>8</th>\n",
       "      <td>10.944607</td>\n",
       "      <td>187.165909</td>\n",
       "      <td>0.127711</td>\n",
       "    </tr>\n",
       "  </tbody>\n",
       "</table>\n",
       "</div>"
      ],
      "text/plain": [
       "         mae         mse        r2\n",
       "0  10.718991  176.924033  0.175444\n",
       "1  11.148328  191.019736  0.109751\n",
       "2  10.796435  182.775511  0.148173\n",
       "3  10.746903  180.947147  0.156694\n",
       "4  10.660028  183.840211  0.143211\n",
       "5  10.997702  182.684422  0.148597\n",
       "6  11.141675  188.929484  0.119492\n",
       "7  11.448658  201.794642  0.059534\n",
       "8  10.944607  187.165909  0.127711"
      ]
     },
     "execution_count": 59,
     "metadata": {},
     "output_type": "execute_result"
    }
   ],
   "source": [
    "math_metrics = pd.DataFrame({'mae':[mae1, mae2, mae3, mae4, mae5, mae6, mae7, mae8, mae9], 'mse':[mse1, mse2, mse3, mse4, mse5, mse6, mse7, mse8, mse9], 'r2':[r2_1, r2_2, r2_3, r2_4, r2_5, r2_6, r2_7, r2_8, r2_9]})\n",
    "math_metrics"
   ]
  },
  {
   "cell_type": "code",
   "execution_count": 60,
   "metadata": {
    "id": "xYmO_Q0oHEwh"
   },
   "outputs": [],
   "source": [
    "math_model = model1"
   ]
  },
  {
   "cell_type": "markdown",
   "metadata": {
    "id": "Wg-6U3ja65JP"
   },
   "source": [
    "### Linear Regression got the best metrics for math model with mean absolute error of `10.718991`\n",
    "\n"
   ]
  },
  {
   "cell_type": "markdown",
   "metadata": {
    "id": "Ni6S_aZ_7pHX"
   },
   "source": [
    "## Training Reading Model"
   ]
  },
  {
   "cell_type": "code",
   "execution_count": 61,
   "metadata": {
    "id": "fUU6DKpY8BHU"
   },
   "outputs": [],
   "source": [
    "X_r, y_r = dataset_reading.drop(columns='reading score'), dataset_reading['reading score']"
   ]
  },
  {
   "cell_type": "code",
   "execution_count": 62,
   "metadata": {
    "colab": {
     "base_uri": "https://localhost:8080/",
     "height": 322
    },
    "id": "lWU6RR3C8ZBn",
    "outputId": "1350682a-9117-42e5-80f6-1e49c399b711"
   },
   "outputs": [
    {
     "data": {
      "text/html": [
       "<div>\n",
       "<style scoped>\n",
       "    .dataframe tbody tr th:only-of-type {\n",
       "        vertical-align: middle;\n",
       "    }\n",
       "\n",
       "    .dataframe tbody tr th {\n",
       "        vertical-align: top;\n",
       "    }\n",
       "\n",
       "    .dataframe thead th {\n",
       "        text-align: right;\n",
       "    }\n",
       "</style>\n",
       "<table border=\"1\" class=\"dataframe\">\n",
       "  <thead>\n",
       "    <tr style=\"text-align: right;\">\n",
       "      <th></th>\n",
       "      <th>gender_female</th>\n",
       "      <th>race/ethnicity_group A</th>\n",
       "      <th>race/ethnicity_group B</th>\n",
       "      <th>race/ethnicity_group C</th>\n",
       "      <th>race/ethnicity_group D</th>\n",
       "      <th>parental level of education_associate's degree</th>\n",
       "      <th>parental level of education_bachelor's degree</th>\n",
       "      <th>parental level of education_high school</th>\n",
       "      <th>parental level of education_master's degree</th>\n",
       "      <th>parental level of education_some college</th>\n",
       "      <th>lunch_standard</th>\n",
       "      <th>test preparation course_completed</th>\n",
       "    </tr>\n",
       "  </thead>\n",
       "  <tbody>\n",
       "    <tr>\n",
       "      <th>0</th>\n",
       "      <td>1</td>\n",
       "      <td>0</td>\n",
       "      <td>1</td>\n",
       "      <td>0</td>\n",
       "      <td>0</td>\n",
       "      <td>0</td>\n",
       "      <td>1</td>\n",
       "      <td>0</td>\n",
       "      <td>0</td>\n",
       "      <td>0</td>\n",
       "      <td>1</td>\n",
       "      <td>0</td>\n",
       "    </tr>\n",
       "    <tr>\n",
       "      <th>1</th>\n",
       "      <td>1</td>\n",
       "      <td>0</td>\n",
       "      <td>0</td>\n",
       "      <td>1</td>\n",
       "      <td>0</td>\n",
       "      <td>0</td>\n",
       "      <td>0</td>\n",
       "      <td>0</td>\n",
       "      <td>0</td>\n",
       "      <td>1</td>\n",
       "      <td>1</td>\n",
       "      <td>1</td>\n",
       "    </tr>\n",
       "    <tr>\n",
       "      <th>2</th>\n",
       "      <td>1</td>\n",
       "      <td>0</td>\n",
       "      <td>1</td>\n",
       "      <td>0</td>\n",
       "      <td>0</td>\n",
       "      <td>0</td>\n",
       "      <td>0</td>\n",
       "      <td>0</td>\n",
       "      <td>1</td>\n",
       "      <td>0</td>\n",
       "      <td>1</td>\n",
       "      <td>0</td>\n",
       "    </tr>\n",
       "    <tr>\n",
       "      <th>3</th>\n",
       "      <td>0</td>\n",
       "      <td>1</td>\n",
       "      <td>0</td>\n",
       "      <td>0</td>\n",
       "      <td>0</td>\n",
       "      <td>1</td>\n",
       "      <td>0</td>\n",
       "      <td>0</td>\n",
       "      <td>0</td>\n",
       "      <td>0</td>\n",
       "      <td>0</td>\n",
       "      <td>0</td>\n",
       "    </tr>\n",
       "    <tr>\n",
       "      <th>4</th>\n",
       "      <td>0</td>\n",
       "      <td>0</td>\n",
       "      <td>0</td>\n",
       "      <td>1</td>\n",
       "      <td>0</td>\n",
       "      <td>0</td>\n",
       "      <td>0</td>\n",
       "      <td>0</td>\n",
       "      <td>0</td>\n",
       "      <td>1</td>\n",
       "      <td>1</td>\n",
       "      <td>0</td>\n",
       "    </tr>\n",
       "  </tbody>\n",
       "</table>\n",
       "</div>"
      ],
      "text/plain": [
       "   gender_female  race/ethnicity_group A  race/ethnicity_group B  \\\n",
       "0              1                       0                       1   \n",
       "1              1                       0                       0   \n",
       "2              1                       0                       1   \n",
       "3              0                       1                       0   \n",
       "4              0                       0                       0   \n",
       "\n",
       "   race/ethnicity_group C  race/ethnicity_group D  \\\n",
       "0                       0                       0   \n",
       "1                       1                       0   \n",
       "2                       0                       0   \n",
       "3                       0                       0   \n",
       "4                       1                       0   \n",
       "\n",
       "   parental level of education_associate's degree  \\\n",
       "0                                               0   \n",
       "1                                               0   \n",
       "2                                               0   \n",
       "3                                               1   \n",
       "4                                               0   \n",
       "\n",
       "   parental level of education_bachelor's degree  \\\n",
       "0                                              1   \n",
       "1                                              0   \n",
       "2                                              0   \n",
       "3                                              0   \n",
       "4                                              0   \n",
       "\n",
       "   parental level of education_high school  \\\n",
       "0                                        0   \n",
       "1                                        0   \n",
       "2                                        0   \n",
       "3                                        0   \n",
       "4                                        0   \n",
       "\n",
       "   parental level of education_master's degree  \\\n",
       "0                                            0   \n",
       "1                                            0   \n",
       "2                                            1   \n",
       "3                                            0   \n",
       "4                                            0   \n",
       "\n",
       "   parental level of education_some college  lunch_standard  \\\n",
       "0                                         0               1   \n",
       "1                                         1               1   \n",
       "2                                         0               1   \n",
       "3                                         0               0   \n",
       "4                                         1               1   \n",
       "\n",
       "   test preparation course_completed  \n",
       "0                                  0  \n",
       "1                                  1  \n",
       "2                                  0  \n",
       "3                                  0  \n",
       "4                                  0  "
      ]
     },
     "execution_count": 62,
     "metadata": {},
     "output_type": "execute_result"
    }
   ],
   "source": [
    "X_r.head()"
   ]
  },
  {
   "cell_type": "code",
   "execution_count": 63,
   "metadata": {
    "id": "x-eHzOnZ8rE5"
   },
   "outputs": [],
   "source": [
    "from sklearn.model_selection import train_test_split\n",
    "\n",
    "X_train, X_test, y_train, y_test = train_test_split(X_m, y_m, test_size=0.20, random_state=12)"
   ]
  },
  {
   "cell_type": "code",
   "execution_count": 64,
   "metadata": {
    "colab": {
     "base_uri": "https://localhost:8080/"
    },
    "id": "1SACbg3e81YQ",
    "outputId": "6fe0dae1-7555-445d-e5b6-d005d752f436"
   },
   "outputs": [
    {
     "data": {
      "text/plain": [
       "(10.030508278367233, 150.73408150296189, 0.25988979907280363)"
      ]
     },
     "execution_count": 64,
     "metadata": {},
     "output_type": "execute_result"
    }
   ],
   "source": [
    "from sklearn.linear_model import LinearRegression\n",
    "\n",
    "model1 = LinearRegression()\n",
    "model1.fit(X_train, y_train)\n",
    "y_pred = model1.predict(X_test)\n",
    "\n",
    "mae1 = mean_absolute_error(y_test, y_pred)\n",
    "mse1 = mean_squared_error(y_test, y_pred)\n",
    "r2_1 = r2_score(y_test, y_pred)\n",
    "mae1, mse1, r2_1"
   ]
  },
  {
   "cell_type": "code",
   "execution_count": 65,
   "metadata": {
    "colab": {
     "base_uri": "https://localhost:8080/"
    },
    "id": "ZBX9ZgS59Mg_",
    "outputId": "df9cf4e8-5525-4276-f2e8-213af701d8ab"
   },
   "outputs": [
    {
     "data": {
      "text/plain": [
       "(10.307080224280824, 164.84261154908273, 0.1906163679873678)"
      ]
     },
     "execution_count": 65,
     "metadata": {},
     "output_type": "execute_result"
    }
   ],
   "source": [
    "from sklearn.preprocessing import PolynomialFeatures\n",
    "\n",
    "poly_transform = PolynomialFeatures(2, interaction_only=True)\n",
    "X_train_poly = poly_transform.fit_transform(X_train)\n",
    "\n",
    "model2 = LinearRegression()\n",
    "model2.fit(X_train_poly, y_train)\n",
    "y_pred = model2.predict(poly_transform.transform(X_test))\n",
    "\n",
    "mae2 = mean_absolute_error(y_test, y_pred)\n",
    "mse2 = mean_squared_error(y_test, y_pred)\n",
    "r2_2 = r2_score(y_test, y_pred)\n",
    "mae2, mse2, r2_2"
   ]
  },
  {
   "cell_type": "code",
   "execution_count": 66,
   "metadata": {
    "colab": {
     "base_uri": "https://localhost:8080/"
    },
    "id": "G2jK7fkA9nK9",
    "outputId": "a18006af-e115-4659-e938-83993a0f6672"
   },
   "outputs": [
    {
     "data": {
      "text/plain": [
       "(10.328257234302773, 162.9960081919227, 0.19968326226949262)"
      ]
     },
     "execution_count": 66,
     "metadata": {},
     "output_type": "execute_result"
    }
   ],
   "source": [
    "from sklearn.svm import SVR\n",
    "\n",
    "model3 = SVR()\n",
    "model3.fit(X_train, y_train)\n",
    "\n",
    "y_pred = model3.predict(X_test)\n",
    "\n",
    "mae3 = mean_absolute_error(y_test, y_pred)\n",
    "mse3 = mean_squared_error(y_test, y_pred)\n",
    "r2_3 = r2_score(y_test, y_pred)\n",
    "mae3, mse3, r2_3"
   ]
  },
  {
   "cell_type": "code",
   "execution_count": 67,
   "metadata": {
    "colab": {
     "base_uri": "https://localhost:8080/"
    },
    "id": "1pVCjTYy92Ee",
    "outputId": "1fa8b3b0-7b98-4694-d88a-932a75033a43"
   },
   "outputs": [
    {
     "data": {
      "text/plain": [
       "(10.143164465445919, 154.2596514747291, 0.24257911343243455)"
      ]
     },
     "execution_count": 67,
     "metadata": {},
     "output_type": "execute_result"
    }
   ],
   "source": [
    "model4 = SVR(kernel='linear')\n",
    "model4.fit(X_train, y_train)\n",
    "\n",
    "y_pred = model4.predict(X_test)\n",
    "\n",
    "mae4 = mean_absolute_error(y_test, y_pred)\n",
    "mse4 = mean_squared_error(y_test, y_pred)\n",
    "r2_4 = r2_score(y_test, y_pred)\n",
    "mae4, mse4, r2_4"
   ]
  },
  {
   "cell_type": "code",
   "execution_count": 68,
   "metadata": {
    "colab": {
     "base_uri": "https://localhost:8080/"
    },
    "id": "GFUuqngS-BhC",
    "outputId": "669b47eb-24a0-446d-daba-ea4d225bf74a"
   },
   "outputs": [
    {
     "data": {
      "text/plain": [
       "(10.264904461001173, 158.9788961118645, 0.2194074387734012)"
      ]
     },
     "execution_count": 68,
     "metadata": {},
     "output_type": "execute_result"
    }
   ],
   "source": [
    "model5 = SVR(kernel='sigmoid')\n",
    "model5.fit(X_train, y_train)\n",
    "\n",
    "y_pred = model5.predict(X_test)\n",
    "\n",
    "mae5 = mean_absolute_error(y_test, y_pred)\n",
    "mse5 = mean_squared_error(y_test, y_pred)\n",
    "r2_5 = r2_score(y_test, y_pred)\n",
    "mae5, mse5, r2_5"
   ]
  },
  {
   "cell_type": "code",
   "execution_count": 69,
   "metadata": {
    "colab": {
     "base_uri": "https://localhost:8080/"
    },
    "id": "oeVnV9TB-OLC",
    "outputId": "3b58f04e-d972-422f-8a23-4bad68a02b57"
   },
   "outputs": [
    {
     "data": {
      "text/plain": [
       "(10.349909850499703, 161.4806920443899, 0.2071235234714469)"
      ]
     },
     "execution_count": 69,
     "metadata": {},
     "output_type": "execute_result"
    }
   ],
   "source": [
    "model6 = SVR(kernel='poly')\n",
    "model6.fit(X_train, y_train)\n",
    "\n",
    "y_pred = model6.predict(X_test)\n",
    "\n",
    "mae6 = mean_absolute_error(y_test, y_pred)\n",
    "mse6 = mean_squared_error(y_test, y_pred)\n",
    "r2_6 = r2_score(y_test, y_pred)\n",
    "mae6, mse6, r2_6"
   ]
  },
  {
   "cell_type": "code",
   "execution_count": 70,
   "metadata": {
    "colab": {
     "base_uri": "https://localhost:8080/"
    },
    "id": "fDtFozHr-UCf",
    "outputId": "15357202-c5f8-49e3-8fde-6f52de1eccd5"
   },
   "outputs": [
    {
     "data": {
      "text/plain": [
       "(10.460412160341606, 164.9746690664012, 0.189967960442757)"
      ]
     },
     "execution_count": 70,
     "metadata": {},
     "output_type": "execute_result"
    }
   ],
   "source": [
    "model7 = SVR(kernel='poly', degree=4)\n",
    "model7.fit(X_train, y_train)\n",
    "\n",
    "y_pred = model7.predict(X_test)\n",
    "\n",
    "mae7 = mean_absolute_error(y_test, y_pred)\n",
    "mse7 = mean_squared_error(y_test, y_pred)\n",
    "r2_7 = r2_score(y_test, y_pred)\n",
    "mae7, mse7, r2_7"
   ]
  },
  {
   "cell_type": "code",
   "execution_count": 71,
   "metadata": {
    "colab": {
     "base_uri": "https://localhost:8080/"
    },
    "id": "N3RrBSAT-aUQ",
    "outputId": "a0f442f4-a204-423d-db70-a167a726eea7"
   },
   "outputs": [
    {
     "data": {
      "text/plain": [
       "(10.86673907078052, 176.8368056287646, 0.13172440870542723)"
      ]
     },
     "execution_count": 71,
     "metadata": {},
     "output_type": "execute_result"
    }
   ],
   "source": [
    "model8 = SVR(kernel='poly', degree=5)\n",
    "model8.fit(X_train, y_train)\n",
    "\n",
    "y_pred = model8.predict(X_test)\n",
    "\n",
    "mae8 = mean_absolute_error(y_test, y_pred)\n",
    "mse8 = mean_squared_error(y_test, y_pred)\n",
    "r2_8 = r2_score(y_test, y_pred)\n",
    "mae8, mse8, r2_8"
   ]
  },
  {
   "cell_type": "code",
   "execution_count": 72,
   "metadata": {
    "colab": {
     "base_uri": "https://localhost:8080/",
     "height": 990
    },
    "id": "tdBo8PpI-hyK",
    "outputId": "d05b0cfc-c40c-4d13-808c-9450fbb259aa"
   },
   "outputs": [
    {
     "name": "stdout",
     "output_type": "stream",
     "text": [
      "Model: \"sequential_1\"\n",
      "_________________________________________________________________\n",
      " Layer (type)                Output Shape              Param #   \n",
      "=================================================================\n",
      " dense_5 (Dense)             (None, 1)                 13        \n",
      "                                                                 \n",
      " dense_6 (Dense)             (None, 32)                64        \n",
      "                                                                 \n",
      " dense_7 (Dense)             (None, 16)                528       \n",
      "                                                                 \n",
      " dense_8 (Dense)             (None, 8)                 136       \n",
      "                                                                 \n",
      " dense_9 (Dense)             (None, 1)                 9         \n",
      "                                                                 \n",
      "=================================================================\n",
      "Total params: 750\n",
      "Trainable params: 750\n",
      "Non-trainable params: 0\n",
      "_________________________________________________________________\n",
      "You must install pydot (`pip install pydot`) and install graphviz (see instructions at https://graphviz.gitlab.io/download/) for plot_model/model_to_dot to work.\n"
     ]
    }
   ],
   "source": [
    "# Creating the neural network\n",
    "tf.random.set_seed(42)\n",
    "\n",
    "# 1. Creating the model\n",
    "model9 = tf.keras.Sequential([\n",
    "    tf.keras.layers.Dense(1, input_shape=[12]),\n",
    "    tf.keras.layers.Dense(32),\n",
    "    tf.keras.layers.Dense(16),\n",
    "    tf.keras.layers.Dense(8),\n",
    "    tf.keras.layers.Dense(1)\n",
    "])\n",
    "\n",
    "# 2. Compiling the model\n",
    "model9.compile(loss=tf.keras.losses.mae,\n",
    "              optimizer=tf.keras.optimizers.Adam(),\n",
    "              metrics=[\"mae\"])\n",
    "\n",
    "# Visualizing the model\n",
    "model9.summary()\n",
    "\n",
    "tf.keras.utils.plot_model(model=model9, show_shapes=True)\n"
   ]
  },
  {
   "cell_type": "code",
   "execution_count": 73,
   "metadata": {
    "colab": {
     "base_uri": "https://localhost:8080/"
    },
    "id": "puakYuyf-oPK",
    "outputId": "e771c233-e83b-4b12-fbb8-94c7b326b102"
   },
   "outputs": [
    {
     "name": "stdout",
     "output_type": "stream",
     "text": [
      "Epoch 1/100\n",
      "25/25 [==============================] - 1s 2ms/step - loss: 65.8128 - mae: 65.8128\n",
      "Epoch 2/100\n",
      "25/25 [==============================] - 0s 2ms/step - loss: 64.6634 - mae: 64.6634\n",
      "Epoch 3/100\n",
      "25/25 [==============================] - 0s 2ms/step - loss: 61.2185 - mae: 61.2185\n",
      "Epoch 4/100\n",
      "25/25 [==============================] - 0s 2ms/step - loss: 51.5263 - mae: 51.5263\n",
      "Epoch 5/100\n",
      "25/25 [==============================] - 0s 2ms/step - loss: 30.8236 - mae: 30.8236\n",
      "Epoch 6/100\n",
      "25/25 [==============================] - 0s 2ms/step - loss: 19.1578 - mae: 19.1578\n",
      "Epoch 7/100\n",
      "25/25 [==============================] - 0s 2ms/step - loss: 17.2362 - mae: 17.2362\n",
      "Epoch 8/100\n",
      "25/25 [==============================] - 0s 3ms/step - loss: 16.0534 - mae: 16.0534\n",
      "Epoch 9/100\n",
      "25/25 [==============================] - 0s 2ms/step - loss: 15.2371 - mae: 15.2371\n",
      "Epoch 10/100\n",
      "25/25 [==============================] - 0s 2ms/step - loss: 14.6114 - mae: 14.6114\n",
      "Epoch 11/100\n",
      "25/25 [==============================] - 0s 2ms/step - loss: 14.1303 - mae: 14.1303\n",
      "Epoch 12/100\n",
      "25/25 [==============================] - 0s 3ms/step - loss: 13.7389 - mae: 13.7389\n",
      "Epoch 13/100\n",
      "25/25 [==============================] - 0s 3ms/step - loss: 13.4292 - mae: 13.4292\n",
      "Epoch 14/100\n",
      "25/25 [==============================] - 0s 2ms/step - loss: 13.1933 - mae: 13.1933\n",
      "Epoch 15/100\n",
      "25/25 [==============================] - 0s 2ms/step - loss: 12.9871 - mae: 12.9871\n",
      "Epoch 16/100\n",
      "25/25 [==============================] - 0s 2ms/step - loss: 12.7649 - mae: 12.7649\n",
      "Epoch 17/100\n",
      "25/25 [==============================] - 0s 2ms/step - loss: 12.6274 - mae: 12.6274\n",
      "Epoch 18/100\n",
      "25/25 [==============================] - 0s 2ms/step - loss: 12.5336 - mae: 12.5336\n",
      "Epoch 19/100\n",
      "25/25 [==============================] - 0s 2ms/step - loss: 12.3772 - mae: 12.3772\n",
      "Epoch 20/100\n",
      "25/25 [==============================] - 0s 2ms/step - loss: 12.2699 - mae: 12.2699\n",
      "Epoch 21/100\n",
      "25/25 [==============================] - 0s 3ms/step - loss: 12.2565 - mae: 12.2565\n",
      "Epoch 22/100\n",
      "25/25 [==============================] - 0s 2ms/step - loss: 12.1493 - mae: 12.1493\n",
      "Epoch 23/100\n",
      "25/25 [==============================] - 0s 3ms/step - loss: 12.0484 - mae: 12.0484\n",
      "Epoch 24/100\n",
      "25/25 [==============================] - 0s 3ms/step - loss: 12.0175 - mae: 12.0175\n",
      "Epoch 25/100\n",
      "25/25 [==============================] - 0s 3ms/step - loss: 11.9757 - mae: 11.9757\n",
      "Epoch 26/100\n",
      "25/25 [==============================] - 0s 2ms/step - loss: 11.9033 - mae: 11.9033\n",
      "Epoch 27/100\n",
      "25/25 [==============================] - 0s 2ms/step - loss: 11.8621 - mae: 11.8621\n",
      "Epoch 28/100\n",
      "25/25 [==============================] - 0s 2ms/step - loss: 11.8109 - mae: 11.8109\n",
      "Epoch 29/100\n",
      "25/25 [==============================] - 0s 3ms/step - loss: 11.8458 - mae: 11.8458\n",
      "Epoch 30/100\n",
      "25/25 [==============================] - 0s 3ms/step - loss: 11.7959 - mae: 11.7959\n",
      "Epoch 31/100\n",
      "25/25 [==============================] - 0s 3ms/step - loss: 11.7473 - mae: 11.7473\n",
      "Epoch 32/100\n",
      "25/25 [==============================] - 0s 3ms/step - loss: 11.6759 - mae: 11.6759\n",
      "Epoch 33/100\n",
      "25/25 [==============================] - 0s 3ms/step - loss: 11.6589 - mae: 11.6589\n",
      "Epoch 34/100\n",
      "25/25 [==============================] - 0s 3ms/step - loss: 11.6278 - mae: 11.6278\n",
      "Epoch 35/100\n",
      "25/25 [==============================] - 0s 3ms/step - loss: 11.6051 - mae: 11.6051\n",
      "Epoch 36/100\n",
      "25/25 [==============================] - 0s 3ms/step - loss: 11.7068 - mae: 11.7068\n",
      "Epoch 37/100\n",
      "25/25 [==============================] - 0s 3ms/step - loss: 11.6051 - mae: 11.6051\n",
      "Epoch 38/100\n",
      "25/25 [==============================] - 0s 2ms/step - loss: 11.6144 - mae: 11.6144\n",
      "Epoch 39/100\n",
      "25/25 [==============================] - 0s 2ms/step - loss: 11.5377 - mae: 11.5377\n",
      "Epoch 40/100\n",
      "25/25 [==============================] - 0s 3ms/step - loss: 11.5075 - mae: 11.5075\n",
      "Epoch 41/100\n",
      "25/25 [==============================] - 0s 2ms/step - loss: 11.5115 - mae: 11.5115\n",
      "Epoch 42/100\n",
      "25/25 [==============================] - 0s 3ms/step - loss: 11.4724 - mae: 11.4724\n",
      "Epoch 43/100\n",
      "25/25 [==============================] - 0s 3ms/step - loss: 11.4577 - mae: 11.4577\n",
      "Epoch 44/100\n",
      "25/25 [==============================] - 0s 3ms/step - loss: 11.4496 - mae: 11.4496\n",
      "Epoch 45/100\n",
      "25/25 [==============================] - 0s 3ms/step - loss: 11.4313 - mae: 11.4313\n",
      "Epoch 46/100\n",
      "25/25 [==============================] - 0s 3ms/step - loss: 11.4198 - mae: 11.4198\n",
      "Epoch 47/100\n",
      "25/25 [==============================] - 0s 3ms/step - loss: 11.4401 - mae: 11.4401\n",
      "Epoch 48/100\n",
      "25/25 [==============================] - 0s 3ms/step - loss: 11.3932 - mae: 11.3932\n",
      "Epoch 49/100\n",
      "25/25 [==============================] - 0s 3ms/step - loss: 11.3915 - mae: 11.3915\n",
      "Epoch 50/100\n",
      "25/25 [==============================] - 0s 3ms/step - loss: 11.3677 - mae: 11.3677\n",
      "Epoch 51/100\n",
      "25/25 [==============================] - 0s 3ms/step - loss: 11.3758 - mae: 11.3758\n",
      "Epoch 52/100\n",
      "25/25 [==============================] - 0s 3ms/step - loss: 11.3253 - mae: 11.3253\n",
      "Epoch 53/100\n",
      "25/25 [==============================] - 0s 3ms/step - loss: 11.2991 - mae: 11.2991\n",
      "Epoch 54/100\n",
      "25/25 [==============================] - 0s 3ms/step - loss: 11.3491 - mae: 11.3491\n",
      "Epoch 55/100\n",
      "25/25 [==============================] - 0s 2ms/step - loss: 11.3813 - mae: 11.3813\n",
      "Epoch 56/100\n",
      "25/25 [==============================] - 0s 2ms/step - loss: 11.2987 - mae: 11.2987\n",
      "Epoch 57/100\n",
      "25/25 [==============================] - 0s 2ms/step - loss: 11.2961 - mae: 11.2961\n",
      "Epoch 58/100\n",
      "25/25 [==============================] - 0s 2ms/step - loss: 11.3003 - mae: 11.3003\n",
      "Epoch 59/100\n",
      "25/25 [==============================] - 0s 3ms/step - loss: 11.2673 - mae: 11.2673\n",
      "Epoch 60/100\n",
      "25/25 [==============================] - 0s 2ms/step - loss: 11.3016 - mae: 11.3016\n",
      "Epoch 61/100\n",
      "25/25 [==============================] - 0s 2ms/step - loss: 11.2514 - mae: 11.2514\n",
      "Epoch 62/100\n",
      "25/25 [==============================] - 0s 2ms/step - loss: 11.2213 - mae: 11.2213\n",
      "Epoch 63/100\n",
      "25/25 [==============================] - 0s 2ms/step - loss: 11.2312 - mae: 11.2312\n",
      "Epoch 64/100\n",
      "25/25 [==============================] - 0s 3ms/step - loss: 11.2611 - mae: 11.2611\n",
      "Epoch 65/100\n",
      "25/25 [==============================] - 0s 2ms/step - loss: 11.2572 - mae: 11.2572\n",
      "Epoch 66/100\n",
      "25/25 [==============================] - 0s 2ms/step - loss: 11.3460 - mae: 11.3460\n",
      "Epoch 67/100\n",
      "25/25 [==============================] - 0s 2ms/step - loss: 11.1960 - mae: 11.1960\n",
      "Epoch 68/100\n",
      "25/25 [==============================] - 0s 2ms/step - loss: 11.1933 - mae: 11.1933\n",
      "Epoch 69/100\n",
      "25/25 [==============================] - 0s 3ms/step - loss: 11.1602 - mae: 11.1602\n",
      "Epoch 70/100\n",
      "25/25 [==============================] - 0s 3ms/step - loss: 11.2098 - mae: 11.2098\n",
      "Epoch 71/100\n",
      "25/25 [==============================] - 0s 3ms/step - loss: 11.1784 - mae: 11.1784\n",
      "Epoch 72/100\n",
      "25/25 [==============================] - 0s 3ms/step - loss: 11.1737 - mae: 11.1737\n",
      "Epoch 73/100\n",
      "25/25 [==============================] - 0s 3ms/step - loss: 11.1518 - mae: 11.1518\n",
      "Epoch 74/100\n",
      "25/25 [==============================] - 0s 3ms/step - loss: 11.1362 - mae: 11.1362\n",
      "Epoch 75/100\n",
      "25/25 [==============================] - 0s 3ms/step - loss: 11.1188 - mae: 11.1188\n",
      "Epoch 76/100\n",
      "25/25 [==============================] - 0s 2ms/step - loss: 11.1465 - mae: 11.1465\n",
      "Epoch 77/100\n",
      "25/25 [==============================] - 0s 3ms/step - loss: 11.0952 - mae: 11.0952\n",
      "Epoch 78/100\n",
      "25/25 [==============================] - 0s 3ms/step - loss: 11.1093 - mae: 11.1093\n",
      "Epoch 79/100\n",
      "25/25 [==============================] - 0s 3ms/step - loss: 11.1554 - mae: 11.1554\n",
      "Epoch 80/100\n",
      "25/25 [==============================] - 0s 3ms/step - loss: 11.1183 - mae: 11.1183\n",
      "Epoch 81/100\n",
      "25/25 [==============================] - 0s 3ms/step - loss: 11.0854 - mae: 11.0854\n",
      "Epoch 82/100\n",
      "25/25 [==============================] - 0s 3ms/step - loss: 11.0817 - mae: 11.0817\n",
      "Epoch 83/100\n",
      "25/25 [==============================] - 0s 3ms/step - loss: 11.0772 - mae: 11.0772\n",
      "Epoch 84/100\n",
      "25/25 [==============================] - 0s 3ms/step - loss: 11.1102 - mae: 11.1102\n",
      "Epoch 85/100\n"
     ]
    },
    {
     "name": "stdout",
     "output_type": "stream",
     "text": [
      "25/25 [==============================] - 0s 3ms/step - loss: 11.0688 - mae: 11.0688\n",
      "Epoch 86/100\n",
      "25/25 [==============================] - 0s 3ms/step - loss: 11.1660 - mae: 11.1660\n",
      "Epoch 87/100\n",
      "25/25 [==============================] - 0s 3ms/step - loss: 11.1403 - mae: 11.1403\n",
      "Epoch 88/100\n",
      "25/25 [==============================] - 0s 3ms/step - loss: 11.1323 - mae: 11.1323\n",
      "Epoch 89/100\n",
      "25/25 [==============================] - 0s 3ms/step - loss: 11.0633 - mae: 11.0633\n",
      "Epoch 90/100\n",
      "25/25 [==============================] - 0s 3ms/step - loss: 11.0560 - mae: 11.0560\n",
      "Epoch 91/100\n",
      "25/25 [==============================] - 0s 3ms/step - loss: 11.0214 - mae: 11.0214\n",
      "Epoch 92/100\n",
      "25/25 [==============================] - 0s 3ms/step - loss: 11.0485 - mae: 11.0485\n",
      "Epoch 93/100\n",
      "25/25 [==============================] - 0s 3ms/step - loss: 11.0221 - mae: 11.0221\n",
      "Epoch 94/100\n",
      "25/25 [==============================] - 0s 3ms/step - loss: 11.0634 - mae: 11.0634\n",
      "Epoch 95/100\n",
      "25/25 [==============================] - 0s 3ms/step - loss: 11.0327 - mae: 11.0327\n",
      "Epoch 96/100\n",
      "25/25 [==============================] - 0s 3ms/step - loss: 11.0104 - mae: 11.0104\n",
      "Epoch 97/100\n",
      "25/25 [==============================] - 0s 3ms/step - loss: 11.0231 - mae: 11.0231\n",
      "Epoch 98/100\n",
      "25/25 [==============================] - 0s 3ms/step - loss: 11.0192 - mae: 11.0192\n",
      "Epoch 99/100\n",
      "25/25 [==============================] - 0s 3ms/step - loss: 11.0005 - mae: 11.0005\n",
      "Epoch 100/100\n",
      "25/25 [==============================] - 0s 3ms/step - loss: 11.0197 - mae: 11.0197\n"
     ]
    }
   ],
   "source": [
    "history = model9.fit(X_train, y_train, epochs=100)"
   ]
  },
  {
   "cell_type": "code",
   "execution_count": 74,
   "metadata": {
    "colab": {
     "base_uri": "https://localhost:8080/",
     "height": 279
    },
    "id": "GGej5UVr-rfp",
    "outputId": "3180bf0f-e47e-46c7-c94e-d87888d756ad"
   },
   "outputs": [
    {
     "data": {
      "image/png": "[encoded data removed]",
      "text/plain": [
       "<Figure size 432x288 with 1 Axes>"
      ]
     },
     "metadata": {
      "needs_background": "light"
     },
     "output_type": "display_data"
    }
   ],
   "source": [
    "# Ploting history curve\n",
    "\n",
    "pd.DataFrame(history.history).plot()\n",
    "plt.ylabel('loss')\n",
    "plt.xlabel('epochs')\n",
    "plt.show()"
   ]
  },
  {
   "cell_type": "code",
   "execution_count": 75,
   "metadata": {
    "colab": {
     "base_uri": "https://localhost:8080/"
    },
    "id": "smYT3TjE-3rL",
    "outputId": "83cc83ff-494f-4b2a-b990-2f8bea365475"
   },
   "outputs": [
    {
     "name": "stdout",
     "output_type": "stream",
     "text": [
      "7/7 [==============================] - 0s 2ms/step\n"
     ]
    },
    {
     "data": {
      "text/plain": [
       "(10.42057186126709, 163.06848860012178, 0.19932738064709754)"
      ]
     },
     "execution_count": 75,
     "metadata": {},
     "output_type": "execute_result"
    }
   ],
   "source": [
    "y_pred = model9.predict(X_test)\n",
    "\n",
    "mae9 = mean_absolute_error(y_test, y_pred)\n",
    "mse9 = mean_squared_error(y_test, y_pred)\n",
    "r2_9 = r2_score(y_test, y_pred)\n",
    "mae9, mse9, r2_9"
   ]
  },
  {
   "cell_type": "code",
   "execution_count": 76,
   "metadata": {
    "colab": {
     "base_uri": "https://localhost:8080/",
     "height": 331
    },
    "id": "VbIIwbaV-66S",
    "outputId": "b252278e-3db1-454f-e4f7-bb5d267f3b16"
   },
   "outputs": [
    {
     "data": {
      "text/html": [
       "<div>\n",
       "<style scoped>\n",
       "    .dataframe tbody tr th:only-of-type {\n",
       "        vertical-align: middle;\n",
       "    }\n",
       "\n",
       "    .dataframe tbody tr th {\n",
       "        vertical-align: top;\n",
       "    }\n",
       "\n",
       "    .dataframe thead th {\n",
       "        text-align: right;\n",
       "    }\n",
       "</style>\n",
       "<table border=\"1\" class=\"dataframe\">\n",
       "  <thead>\n",
       "    <tr style=\"text-align: right;\">\n",
       "      <th></th>\n",
       "      <th>mae</th>\n",
       "      <th>mse</th>\n",
       "      <th>r2</th>\n",
       "    </tr>\n",
       "  </thead>\n",
       "  <tbody>\n",
       "    <tr>\n",
       "      <th>0</th>\n",
       "      <td>10.030508</td>\n",
       "      <td>150.734082</td>\n",
       "      <td>0.259890</td>\n",
       "    </tr>\n",
       "    <tr>\n",
       "      <th>1</th>\n",
       "      <td>10.307080</td>\n",
       "      <td>164.842612</td>\n",
       "      <td>0.190616</td>\n",
       "    </tr>\n",
       "    <tr>\n",
       "      <th>2</th>\n",
       "      <td>10.328257</td>\n",
       "      <td>162.996008</td>\n",
       "      <td>0.199683</td>\n",
       "    </tr>\n",
       "    <tr>\n",
       "      <th>3</th>\n",
       "      <td>10.143164</td>\n",
       "      <td>154.259651</td>\n",
       "      <td>0.242579</td>\n",
       "    </tr>\n",
       "    <tr>\n",
       "      <th>4</th>\n",
       "      <td>10.264904</td>\n",
       "      <td>158.978896</td>\n",
       "      <td>0.219407</td>\n",
       "    </tr>\n",
       "    <tr>\n",
       "      <th>5</th>\n",
       "      <td>10.349910</td>\n",
       "      <td>161.480692</td>\n",
       "      <td>0.207124</td>\n",
       "    </tr>\n",
       "    <tr>\n",
       "      <th>6</th>\n",
       "      <td>10.460412</td>\n",
       "      <td>164.974669</td>\n",
       "      <td>0.189968</td>\n",
       "    </tr>\n",
       "    <tr>\n",
       "      <th>7</th>\n",
       "      <td>10.866739</td>\n",
       "      <td>176.836806</td>\n",
       "      <td>0.131724</td>\n",
       "    </tr>\n",
       "    <tr>\n",
       "      <th>8</th>\n",
       "      <td>10.420572</td>\n",
       "      <td>163.068489</td>\n",
       "      <td>0.199327</td>\n",
       "    </tr>\n",
       "  </tbody>\n",
       "</table>\n",
       "</div>"
      ],
      "text/plain": [
       "         mae         mse        r2\n",
       "0  10.030508  150.734082  0.259890\n",
       "1  10.307080  164.842612  0.190616\n",
       "2  10.328257  162.996008  0.199683\n",
       "3  10.143164  154.259651  0.242579\n",
       "4  10.264904  158.978896  0.219407\n",
       "5  10.349910  161.480692  0.207124\n",
       "6  10.460412  164.974669  0.189968\n",
       "7  10.866739  176.836806  0.131724\n",
       "8  10.420572  163.068489  0.199327"
      ]
     },
     "execution_count": 76,
     "metadata": {},
     "output_type": "execute_result"
    }
   ],
   "source": [
    "reading_metrics = pd.DataFrame({'mae':[mae1, mae2, mae3, mae4, mae5, mae6, mae7, mae8, mae9], 'mse':[mse1, mse2, mse3, mse4, mse5, mse6, mse7, mse8, mse9], 'r2':[r2_1, r2_2, r2_3, r2_4, r2_5, r2_6, r2_7, r2_8, r2_9]})\n",
    "reading_metrics"
   ]
  },
  {
   "cell_type": "code",
   "execution_count": 77,
   "metadata": {
    "id": "NcMR4UybHiUt"
   },
   "outputs": [],
   "source": [
    "reading_model = model1"
   ]
  },
  {
   "cell_type": "markdown",
   "metadata": {
    "id": "WpziDQgL-_5U"
   },
   "source": [
    "### Linear Regression got the best metrics for reading model with mean absolute error of `10.030508`\n"
   ]
  },
  {
   "cell_type": "markdown",
   "metadata": {
    "id": "t4Eh3byl_cfG"
   },
   "source": [
    "## Training Writing Model"
   ]
  },
  {
   "cell_type": "code",
   "execution_count": 78,
   "metadata": {
    "id": "MxRmpFNTy7Mc"
   },
   "outputs": [],
   "source": [
    "X_w, y_w = dataset_writing.drop(columns='writing score'), dataset_writing['writing score']"
   ]
  },
  {
   "cell_type": "code",
   "execution_count": 79,
   "metadata": {
    "colab": {
     "base_uri": "https://localhost:8080/",
     "height": 322
    },
    "id": "vjSE8ONBzFma",
    "outputId": "86d52a8b-0869-44b0-eeb3-e2ee19274e4f"
   },
   "outputs": [
    {
     "data": {
      "text/html": [
       "<div>\n",
       "<style scoped>\n",
       "    .dataframe tbody tr th:only-of-type {\n",
       "        vertical-align: middle;\n",
       "    }\n",
       "\n",
       "    .dataframe tbody tr th {\n",
       "        vertical-align: top;\n",
       "    }\n",
       "\n",
       "    .dataframe thead th {\n",
       "        text-align: right;\n",
       "    }\n",
       "</style>\n",
       "<table border=\"1\" class=\"dataframe\">\n",
       "  <thead>\n",
       "    <tr style=\"text-align: right;\">\n",
       "      <th></th>\n",
       "      <th>gender_female</th>\n",
       "      <th>race/ethnicity_group A</th>\n",
       "      <th>race/ethnicity_group B</th>\n",
       "      <th>race/ethnicity_group C</th>\n",
       "      <th>race/ethnicity_group D</th>\n",
       "      <th>parental level of education_associate's degree</th>\n",
       "      <th>parental level of education_bachelor's degree</th>\n",
       "      <th>parental level of education_high school</th>\n",
       "      <th>parental level of education_master's degree</th>\n",
       "      <th>parental level of education_some college</th>\n",
       "      <th>lunch_standard</th>\n",
       "      <th>test preparation course_completed</th>\n",
       "    </tr>\n",
       "  </thead>\n",
       "  <tbody>\n",
       "    <tr>\n",
       "      <th>0</th>\n",
       "      <td>1</td>\n",
       "      <td>0</td>\n",
       "      <td>1</td>\n",
       "      <td>0</td>\n",
       "      <td>0</td>\n",
       "      <td>0</td>\n",
       "      <td>1</td>\n",
       "      <td>0</td>\n",
       "      <td>0</td>\n",
       "      <td>0</td>\n",
       "      <td>1</td>\n",
       "      <td>0</td>\n",
       "    </tr>\n",
       "    <tr>\n",
       "      <th>1</th>\n",
       "      <td>1</td>\n",
       "      <td>0</td>\n",
       "      <td>0</td>\n",
       "      <td>1</td>\n",
       "      <td>0</td>\n",
       "      <td>0</td>\n",
       "      <td>0</td>\n",
       "      <td>0</td>\n",
       "      <td>0</td>\n",
       "      <td>1</td>\n",
       "      <td>1</td>\n",
       "      <td>1</td>\n",
       "    </tr>\n",
       "    <tr>\n",
       "      <th>2</th>\n",
       "      <td>1</td>\n",
       "      <td>0</td>\n",
       "      <td>1</td>\n",
       "      <td>0</td>\n",
       "      <td>0</td>\n",
       "      <td>0</td>\n",
       "      <td>0</td>\n",
       "      <td>0</td>\n",
       "      <td>1</td>\n",
       "      <td>0</td>\n",
       "      <td>1</td>\n",
       "      <td>0</td>\n",
       "    </tr>\n",
       "    <tr>\n",
       "      <th>3</th>\n",
       "      <td>0</td>\n",
       "      <td>1</td>\n",
       "      <td>0</td>\n",
       "      <td>0</td>\n",
       "      <td>0</td>\n",
       "      <td>1</td>\n",
       "      <td>0</td>\n",
       "      <td>0</td>\n",
       "      <td>0</td>\n",
       "      <td>0</td>\n",
       "      <td>0</td>\n",
       "      <td>0</td>\n",
       "    </tr>\n",
       "    <tr>\n",
       "      <th>4</th>\n",
       "      <td>0</td>\n",
       "      <td>0</td>\n",
       "      <td>0</td>\n",
       "      <td>1</td>\n",
       "      <td>0</td>\n",
       "      <td>0</td>\n",
       "      <td>0</td>\n",
       "      <td>0</td>\n",
       "      <td>0</td>\n",
       "      <td>1</td>\n",
       "      <td>1</td>\n",
       "      <td>0</td>\n",
       "    </tr>\n",
       "  </tbody>\n",
       "</table>\n",
       "</div>"
      ],
      "text/plain": [
       "   gender_female  race/ethnicity_group A  race/ethnicity_group B  \\\n",
       "0              1                       0                       1   \n",
       "1              1                       0                       0   \n",
       "2              1                       0                       1   \n",
       "3              0                       1                       0   \n",
       "4              0                       0                       0   \n",
       "\n",
       "   race/ethnicity_group C  race/ethnicity_group D  \\\n",
       "0                       0                       0   \n",
       "1                       1                       0   \n",
       "2                       0                       0   \n",
       "3                       0                       0   \n",
       "4                       1                       0   \n",
       "\n",
       "   parental level of education_associate's degree  \\\n",
       "0                                               0   \n",
       "1                                               0   \n",
       "2                                               0   \n",
       "3                                               1   \n",
       "4                                               0   \n",
       "\n",
       "   parental level of education_bachelor's degree  \\\n",
       "0                                              1   \n",
       "1                                              0   \n",
       "2                                              0   \n",
       "3                                              0   \n",
       "4                                              0   \n",
       "\n",
       "   parental level of education_high school  \\\n",
       "0                                        0   \n",
       "1                                        0   \n",
       "2                                        0   \n",
       "3                                        0   \n",
       "4                                        0   \n",
       "\n",
       "   parental level of education_master's degree  \\\n",
       "0                                            0   \n",
       "1                                            0   \n",
       "2                                            1   \n",
       "3                                            0   \n",
       "4                                            0   \n",
       "\n",
       "   parental level of education_some college  lunch_standard  \\\n",
       "0                                         0               1   \n",
       "1                                         1               1   \n",
       "2                                         0               1   \n",
       "3                                         0               0   \n",
       "4                                         1               1   \n",
       "\n",
       "   test preparation course_completed  \n",
       "0                                  0  \n",
       "1                                  1  \n",
       "2                                  0  \n",
       "3                                  0  \n",
       "4                                  0  "
      ]
     },
     "execution_count": 79,
     "metadata": {},
     "output_type": "execute_result"
    }
   ],
   "source": [
    "X_w.head()"
   ]
  },
  {
   "cell_type": "code",
   "execution_count": 80,
   "metadata": {
    "id": "9dAcq8cizMpa"
   },
   "outputs": [],
   "source": [
    "from sklearn.model_selection import train_test_split\n",
    "\n",
    "X_train, X_test, y_train, y_test = train_test_split(X_m, y_m, test_size=0.20, random_state = 43)"
   ]
  },
  {
   "cell_type": "code",
   "execution_count": 81,
   "metadata": {
    "colab": {
     "base_uri": "https://localhost:8080/"
    },
    "id": "foGe_h19zid4",
    "outputId": "367fb0ee-ce6c-4ecd-c529-a9936a67c58a"
   },
   "outputs": [
    {
     "data": {
      "text/plain": [
       "(10.441469802972497, 163.05657047036632, 0.2748903353275097)"
      ]
     },
     "execution_count": 81,
     "metadata": {},
     "output_type": "execute_result"
    }
   ],
   "source": [
    "from sklearn.linear_model import LinearRegression\n",
    "\n",
    "model1 = LinearRegression()\n",
    "model1.fit(X_train, y_train)\n",
    "y_pred = model1.predict(X_test)\n",
    "\n",
    "mae1 = mean_absolute_error(y_test, y_pred)\n",
    "mse1 = mean_squared_error(y_test, y_pred)\n",
    "r2_1 = r2_score(y_test, y_pred)\n",
    "mae1, mse1, r2_1"
   ]
  },
  {
   "cell_type": "code",
   "execution_count": 82,
   "metadata": {
    "colab": {
     "base_uri": "https://localhost:8080/"
    },
    "id": "A2dSLDKP0MBT",
    "outputId": "89911d46-2d13-41bc-eea2-ef14a09f414c"
   },
   "outputs": [
    {
     "data": {
      "text/plain": [
       "(10.983934616835768, 184.63683365493816, 0.17892328931293144)"
      ]
     },
     "execution_count": 82,
     "metadata": {},
     "output_type": "execute_result"
    }
   ],
   "source": [
    "from sklearn.preprocessing import PolynomialFeatures\n",
    "\n",
    "poly_transform = PolynomialFeatures(2, interaction_only=True)\n",
    "X_train_poly = poly_transform.fit_transform(X_train)\n",
    "\n",
    "model2 = LinearRegression()\n",
    "model2.fit(X_train_poly, y_train)\n",
    "y_pred = model2.predict(poly_transform.transform(X_test))\n",
    "\n",
    "mae2 = mean_absolute_error(y_test, y_pred)\n",
    "mse2 = mean_squared_error(y_test, y_pred)\n",
    "r2_2 = r2_score(y_test, y_pred)\n",
    "mae2, mse2, r2_2"
   ]
  },
  {
   "cell_type": "code",
   "execution_count": 83,
   "metadata": {
    "colab": {
     "base_uri": "https://localhost:8080/"
    },
    "id": "Pt0cm13t0TIj",
    "outputId": "58bcf15f-aa28-4048-e651-496d5345e3f2"
   },
   "outputs": [
    {
     "data": {
      "text/plain": [
       "(10.983531417729878, 185.4758962728216, 0.17519199279579267)"
      ]
     },
     "execution_count": 83,
     "metadata": {},
     "output_type": "execute_result"
    }
   ],
   "source": [
    "from sklearn.svm import SVR\n",
    "\n",
    "model3 = SVR()\n",
    "model3.fit(X_train, y_train)\n",
    "\n",
    "y_pred = model3.predict(X_test)\n",
    "\n",
    "mae3 = mean_absolute_error(y_test, y_pred)\n",
    "mse3 = mean_squared_error(y_test, y_pred)\n",
    "r2_3 = r2_score(y_test, y_pred)\n",
    "mae3, mse3, r2_3"
   ]
  },
  {
   "cell_type": "code",
   "execution_count": 84,
   "metadata": {
    "colab": {
     "base_uri": "https://localhost:8080/"
    },
    "id": "OwSfEUIW0sZC",
    "outputId": "987e08c1-01ad-48d3-b468-47d6eb37d869"
   },
   "outputs": [
    {
     "data": {
      "text/plain": [
       "(10.65379977625796, 170.59568115289534, 0.2413640444018037)"
      ]
     },
     "execution_count": 84,
     "metadata": {},
     "output_type": "execute_result"
    }
   ],
   "source": [
    "model4 = SVR(kernel='linear')\n",
    "model4.fit(X_train, y_train)\n",
    "\n",
    "y_pred = model4.predict(X_test)\n",
    "\n",
    "mae4 = mean_absolute_error(y_test, y_pred)\n",
    "mse4 = mean_squared_error(y_test, y_pred)\n",
    "r2_4 = r2_score(y_test, y_pred)\n",
    "mae4, mse4, r2_4"
   ]
  },
  {
   "cell_type": "code",
   "execution_count": 85,
   "metadata": {
    "colab": {
     "base_uri": "https://localhost:8080/"
    },
    "id": "tZPHCz150yZR",
    "outputId": "abceb07c-79fe-4b62-ea56-c708e40f3465"
   },
   "outputs": [
    {
     "data": {
      "text/plain": [
       "(10.647959140248249, 173.32221809457275, 0.2292391831846584)"
      ]
     },
     "execution_count": 85,
     "metadata": {},
     "output_type": "execute_result"
    }
   ],
   "source": [
    "model5 = SVR(kernel='sigmoid')\n",
    "model5.fit(X_train, y_train)\n",
    "\n",
    "y_pred = model5.predict(X_test)\n",
    "\n",
    "mae5 = mean_absolute_error(y_test, y_pred)\n",
    "mse5 = mean_squared_error(y_test, y_pred)\n",
    "r2_5 = r2_score(y_test, y_pred)\n",
    "mae5, mse5, r2_5"
   ]
  },
  {
   "cell_type": "code",
   "execution_count": 86,
   "metadata": {
    "colab": {
     "base_uri": "https://localhost:8080/"
    },
    "id": "QFmgRT7p05h6",
    "outputId": "585eae12-657e-4bd5-eab2-a015c5588abf"
   },
   "outputs": [
    {
     "data": {
      "text/plain": [
       "(11.297057403290147, 196.45523239906558, 0.12636708059592405)"
      ]
     },
     "execution_count": 86,
     "metadata": {},
     "output_type": "execute_result"
    }
   ],
   "source": [
    "model6 = SVR(kernel='poly')\n",
    "model6.fit(X_train, y_train)\n",
    "\n",
    "y_pred = model6.predict(X_test)\n",
    "\n",
    "mae6 = mean_absolute_error(y_test, y_pred)\n",
    "mse6 = mean_squared_error(y_test, y_pred)\n",
    "r2_6 = r2_score(y_test, y_pred)\n",
    "mae6, mse6, r2_6"
   ]
  },
  {
   "cell_type": "code",
   "execution_count": 87,
   "metadata": {
    "colab": {
     "base_uri": "https://localhost:8080/"
    },
    "id": "JpZYfW2309Td",
    "outputId": "faab3fb8-6603-44b9-92f4-6e037ca7427a"
   },
   "outputs": [
    {
     "data": {
      "text/plain": [
       "(11.515116615258512, 206.6628009314654, 0.08097420513988685)"
      ]
     },
     "execution_count": 87,
     "metadata": {},
     "output_type": "execute_result"
    }
   ],
   "source": [
    "model7 = SVR(kernel='poly', degree=4)\n",
    "model7.fit(X_train, y_train)\n",
    "\n",
    "y_pred = model7.predict(X_test)\n",
    "\n",
    "mae7 = mean_absolute_error(y_test, y_pred)\n",
    "mse7 = mean_squared_error(y_test, y_pred)\n",
    "r2_7 = r2_score(y_test, y_pred)\n",
    "mae7, mse7, r2_7"
   ]
  },
  {
   "cell_type": "code",
   "execution_count": 88,
   "metadata": {
    "colab": {
     "base_uri": "https://localhost:8080/"
    },
    "id": "-qPgO-gz1Blk",
    "outputId": "34b19904-92e8-422c-931c-3a0ec7f08976"
   },
   "outputs": [
    {
     "data": {
      "text/plain": [
       "(11.753581134301504, 214.77464881841632, 0.0449009620671692)"
      ]
     },
     "execution_count": 88,
     "metadata": {},
     "output_type": "execute_result"
    }
   ],
   "source": [
    "model8 = SVR(kernel='poly', degree=5)\n",
    "model8.fit(X_train, y_train)\n",
    "\n",
    "y_pred = model8.predict(X_test)\n",
    "\n",
    "mae8 = mean_absolute_error(y_test, y_pred)\n",
    "mse8 = mean_squared_error(y_test, y_pred)\n",
    "r2_8 = r2_score(y_test, y_pred)\n",
    "mae8, mse8, r2_8"
   ]
  },
  {
   "cell_type": "code",
   "execution_count": 89,
   "metadata": {
    "colab": {
     "base_uri": "https://localhost:8080/",
     "height": 990
    },
    "id": "fS8jQ55J1Eei",
    "outputId": "c5f6357b-6cf3-427f-85a7-ecfe1bbc23e3"
   },
   "outputs": [
    {
     "name": "stdout",
     "output_type": "stream",
     "text": [
      "Model: \"sequential_2\"\n",
      "_________________________________________________________________\n",
      " Layer (type)                Output Shape              Param #   \n",
      "=================================================================\n",
      " dense_10 (Dense)            (None, 1)                 13        \n",
      "                                                                 \n",
      " dense_11 (Dense)            (None, 32)                64        \n",
      "                                                                 \n",
      " dense_12 (Dense)            (None, 16)                528       \n",
      "                                                                 \n",
      " dense_13 (Dense)            (None, 8)                 136       \n",
      "                                                                 \n",
      " dense_14 (Dense)            (None, 1)                 9         \n",
      "                                                                 \n",
      "=================================================================\n",
      "Total params: 750\n",
      "Trainable params: 750\n",
      "Non-trainable params: 0\n",
      "_________________________________________________________________\n",
      "You must install pydot (`pip install pydot`) and install graphviz (see instructions at https://graphviz.gitlab.io/download/) for plot_model/model_to_dot to work.\n"
     ]
    }
   ],
   "source": [
    "# Creating the neural network\n",
    "tf.random.set_seed(42)\n",
    "\n",
    "# 1. Creating the model\n",
    "model9 = tf.keras.Sequential([\n",
    "    tf.keras.layers.Dense(1, input_shape=[12]),\n",
    "    tf.keras.layers.Dense(32),\n",
    "    tf.keras.layers.Dense(16),\n",
    "    tf.keras.layers.Dense(8),\n",
    "    tf.keras.layers.Dense(1)\n",
    "])\n",
    "\n",
    "# 2. Compiling the model\n",
    "model9.compile(loss=tf.keras.losses.mae,\n",
    "              optimizer=tf.keras.optimizers.Adam(),\n",
    "              metrics=[\"mae\"])\n",
    "\n",
    "# Visualizing the model\n",
    "model9.summary()\n",
    "\n",
    "tf.keras.utils.plot_model(model=model9, show_shapes=True)\n"
   ]
  },
  {
   "cell_type": "code",
   "execution_count": 90,
   "metadata": {
    "colab": {
     "base_uri": "https://localhost:8080/"
    },
    "id": "2Kf-N7yQ2Ajg",
    "outputId": "53347a1d-1130-49a2-d1b7-de5c02322b14"
   },
   "outputs": [
    {
     "name": "stdout",
     "output_type": "stream",
     "text": [
      "Epoch 1/100\n",
      "25/25 [==============================] - 1s 3ms/step - loss: 65.3936 - mae: 65.3936\n",
      "Epoch 2/100\n",
      "25/25 [==============================] - 0s 3ms/step - loss: 64.3133 - mae: 64.3133\n",
      "Epoch 3/100\n",
      "25/25 [==============================] - 0s 3ms/step - loss: 61.0039 - mae: 61.0039\n",
      "Epoch 4/100\n",
      "25/25 [==============================] - 0s 2ms/step - loss: 51.7329 - mae: 51.7329\n",
      "Epoch 5/100\n",
      "25/25 [==============================] - 0s 3ms/step - loss: 31.1954 - mae: 31.1954\n",
      "Epoch 6/100\n",
      "25/25 [==============================] - 0s 3ms/step - loss: 18.9042 - mae: 18.9042\n",
      "Epoch 7/100\n",
      "25/25 [==============================] - 0s 2ms/step - loss: 17.0887 - mae: 17.0887\n",
      "Epoch 8/100\n",
      "25/25 [==============================] - 0s 2ms/step - loss: 15.8113 - mae: 15.8113\n",
      "Epoch 9/100\n",
      "25/25 [==============================] - 0s 3ms/step - loss: 14.9688 - mae: 14.9688\n",
      "Epoch 10/100\n",
      "25/25 [==============================] - 0s 3ms/step - loss: 14.4612 - mae: 14.4612\n",
      "Epoch 11/100\n",
      "25/25 [==============================] - 0s 2ms/step - loss: 13.8944 - mae: 13.8944\n",
      "Epoch 12/100\n",
      "25/25 [==============================] - 0s 3ms/step - loss: 13.5310 - mae: 13.5310\n",
      "Epoch 13/100\n",
      "25/25 [==============================] - 0s 3ms/step - loss: 13.2529 - mae: 13.2529\n",
      "Epoch 14/100\n",
      "25/25 [==============================] - 0s 2ms/step - loss: 12.9865 - mae: 12.9865\n",
      "Epoch 15/100\n",
      "25/25 [==============================] - 0s 2ms/step - loss: 12.7569 - mae: 12.7569\n",
      "Epoch 16/100\n",
      "25/25 [==============================] - 0s 2ms/step - loss: 12.5708 - mae: 12.5708\n",
      "Epoch 17/100\n",
      "25/25 [==============================] - 0s 3ms/step - loss: 12.4135 - mae: 12.4135\n",
      "Epoch 18/100\n",
      "25/25 [==============================] - 0s 3ms/step - loss: 12.3088 - mae: 12.3088\n",
      "Epoch 19/100\n",
      "25/25 [==============================] - 0s 3ms/step - loss: 12.1801 - mae: 12.1801\n",
      "Epoch 20/100\n",
      "25/25 [==============================] - 0s 2ms/step - loss: 12.1348 - mae: 12.1348\n",
      "Epoch 21/100\n",
      "25/25 [==============================] - 0s 2ms/step - loss: 12.0437 - mae: 12.0437\n",
      "Epoch 22/100\n",
      "25/25 [==============================] - 0s 3ms/step - loss: 11.9379 - mae: 11.9379\n",
      "Epoch 23/100\n",
      "25/25 [==============================] - 0s 3ms/step - loss: 11.8709 - mae: 11.8709\n",
      "Epoch 24/100\n",
      "25/25 [==============================] - 0s 2ms/step - loss: 11.8666 - mae: 11.8666\n",
      "Epoch 25/100\n",
      "25/25 [==============================] - 0s 2ms/step - loss: 11.8459 - mae: 11.8459\n",
      "Epoch 26/100\n",
      "25/25 [==============================] - 0s 3ms/step - loss: 11.7409 - mae: 11.7409\n",
      "Epoch 27/100\n",
      "25/25 [==============================] - 0s 3ms/step - loss: 11.7628 - mae: 11.7628\n",
      "Epoch 28/100\n",
      "25/25 [==============================] - 0s 3ms/step - loss: 11.6475 - mae: 11.6475\n",
      "Epoch 29/100\n",
      "25/25 [==============================] - 0s 3ms/step - loss: 11.6331 - mae: 11.6331\n",
      "Epoch 30/100\n",
      "25/25 [==============================] - 0s 3ms/step - loss: 11.6231 - mae: 11.6231\n",
      "Epoch 31/100\n",
      "25/25 [==============================] - 0s 2ms/step - loss: 11.6013 - mae: 11.6013\n",
      "Epoch 32/100\n",
      "25/25 [==============================] - 0s 2ms/step - loss: 11.5507 - mae: 11.5507\n",
      "Epoch 33/100\n",
      "25/25 [==============================] - 0s 2ms/step - loss: 11.4879 - mae: 11.4879\n",
      "Epoch 34/100\n",
      "25/25 [==============================] - 0s 3ms/step - loss: 11.4671 - mae: 11.4671\n",
      "Epoch 35/100\n",
      "25/25 [==============================] - 0s 2ms/step - loss: 11.4402 - mae: 11.4402\n",
      "Epoch 36/100\n",
      "25/25 [==============================] - 0s 2ms/step - loss: 11.4203 - mae: 11.4203\n",
      "Epoch 37/100\n",
      "25/25 [==============================] - 0s 3ms/step - loss: 11.4285 - mae: 11.4285\n",
      "Epoch 38/100\n",
      "25/25 [==============================] - 0s 2ms/step - loss: 11.4406 - mae: 11.4406\n",
      "Epoch 39/100\n",
      "25/25 [==============================] - 0s 3ms/step - loss: 11.3998 - mae: 11.3998\n",
      "Epoch 40/100\n",
      "25/25 [==============================] - 0s 2ms/step - loss: 11.4004 - mae: 11.4004\n",
      "Epoch 41/100\n",
      "25/25 [==============================] - 0s 2ms/step - loss: 11.3447 - mae: 11.3447\n",
      "Epoch 42/100\n",
      "25/25 [==============================] - 0s 3ms/step - loss: 11.3078 - mae: 11.3078\n",
      "Epoch 43/100\n",
      "25/25 [==============================] - 0s 3ms/step - loss: 11.3398 - mae: 11.3398\n",
      "Epoch 44/100\n",
      "25/25 [==============================] - 0s 3ms/step - loss: 11.3028 - mae: 11.3028\n",
      "Epoch 45/100\n",
      "25/25 [==============================] - 0s 2ms/step - loss: 11.2684 - mae: 11.2684\n",
      "Epoch 46/100\n",
      "25/25 [==============================] - 0s 3ms/step - loss: 11.3109 - mae: 11.3109\n",
      "Epoch 47/100\n",
      "25/25 [==============================] - 0s 2ms/step - loss: 11.2436 - mae: 11.2436\n",
      "Epoch 48/100\n",
      "25/25 [==============================] - 0s 3ms/step - loss: 11.2828 - mae: 11.2828\n",
      "Epoch 49/100\n",
      "25/25 [==============================] - 0s 3ms/step - loss: 11.2148 - mae: 11.2148\n",
      "Epoch 50/100\n",
      "25/25 [==============================] - 0s 2ms/step - loss: 11.2533 - mae: 11.2533\n",
      "Epoch 51/100\n",
      "25/25 [==============================] - 0s 3ms/step - loss: 11.1958 - mae: 11.1958\n",
      "Epoch 52/100\n",
      "25/25 [==============================] - 0s 2ms/step - loss: 11.2247 - mae: 11.2247\n",
      "Epoch 53/100\n",
      "25/25 [==============================] - 0s 2ms/step - loss: 11.2021 - mae: 11.2021\n",
      "Epoch 54/100\n",
      "25/25 [==============================] - 0s 2ms/step - loss: 11.1614 - mae: 11.1614\n",
      "Epoch 55/100\n",
      "25/25 [==============================] - 0s 2ms/step - loss: 11.2219 - mae: 11.2219\n",
      "Epoch 56/100\n",
      "25/25 [==============================] - 0s 3ms/step - loss: 11.1391 - mae: 11.1391\n",
      "Epoch 57/100\n",
      "25/25 [==============================] - 0s 2ms/step - loss: 11.1479 - mae: 11.1479\n",
      "Epoch 58/100\n",
      "25/25 [==============================] - 0s 2ms/step - loss: 11.2817 - mae: 11.2817\n",
      "Epoch 59/100\n",
      "25/25 [==============================] - 0s 2ms/step - loss: 11.1903 - mae: 11.1903\n",
      "Epoch 60/100\n",
      "25/25 [==============================] - 0s 2ms/step - loss: 11.1262 - mae: 11.1262\n",
      "Epoch 61/100\n",
      "25/25 [==============================] - 0s 2ms/step - loss: 11.1039 - mae: 11.1039\n",
      "Epoch 62/100\n",
      "25/25 [==============================] - 0s 2ms/step - loss: 11.1132 - mae: 11.1132\n",
      "Epoch 63/100\n",
      "25/25 [==============================] - 0s 3ms/step - loss: 11.0824 - mae: 11.0824\n",
      "Epoch 64/100\n",
      "25/25 [==============================] - 0s 3ms/step - loss: 11.1356 - mae: 11.1356\n",
      "Epoch 65/100\n",
      "25/25 [==============================] - 0s 2ms/step - loss: 11.1245 - mae: 11.1245\n",
      "Epoch 66/100\n",
      "25/25 [==============================] - 0s 2ms/step - loss: 11.0514 - mae: 11.0514\n",
      "Epoch 67/100\n",
      "25/25 [==============================] - 0s 2ms/step - loss: 11.0405 - mae: 11.0405\n",
      "Epoch 68/100\n",
      "25/25 [==============================] - 0s 2ms/step - loss: 11.0764 - mae: 11.0764\n",
      "Epoch 69/100\n",
      "25/25 [==============================] - 0s 2ms/step - loss: 11.1395 - mae: 11.1395\n",
      "Epoch 70/100\n",
      "25/25 [==============================] - 0s 2ms/step - loss: 11.1245 - mae: 11.1245\n",
      "Epoch 71/100\n",
      "25/25 [==============================] - 0s 2ms/step - loss: 10.9977 - mae: 10.9977\n",
      "Epoch 72/100\n",
      "25/25 [==============================] - 0s 3ms/step - loss: 11.0421 - mae: 11.0421\n",
      "Epoch 73/100\n",
      "25/25 [==============================] - 0s 2ms/step - loss: 11.0804 - mae: 11.0804\n",
      "Epoch 74/100\n",
      "25/25 [==============================] - 0s 2ms/step - loss: 11.0125 - mae: 11.0125\n",
      "Epoch 75/100\n",
      "25/25 [==============================] - 0s 2ms/step - loss: 10.9986 - mae: 10.9986\n",
      "Epoch 76/100\n",
      "25/25 [==============================] - 0s 2ms/step - loss: 11.0169 - mae: 11.0169\n",
      "Epoch 77/100\n",
      "25/25 [==============================] - 0s 2ms/step - loss: 11.0022 - mae: 11.0022\n",
      "Epoch 78/100\n",
      "25/25 [==============================] - 0s 2ms/step - loss: 11.0491 - mae: 11.0491\n",
      "Epoch 79/100\n",
      "25/25 [==============================] - 0s 2ms/step - loss: 11.0073 - mae: 11.0073\n",
      "Epoch 80/100\n",
      "25/25 [==============================] - 0s 2ms/step - loss: 10.9806 - mae: 10.9806\n",
      "Epoch 81/100\n",
      "25/25 [==============================] - 0s 2ms/step - loss: 10.9730 - mae: 10.9730\n",
      "Epoch 82/100\n",
      "25/25 [==============================] - 0s 2ms/step - loss: 10.9903 - mae: 10.9903\n",
      "Epoch 83/100\n",
      "25/25 [==============================] - 0s 2ms/step - loss: 10.9469 - mae: 10.9469\n",
      "Epoch 84/100\n",
      "25/25 [==============================] - 0s 2ms/step - loss: 10.9581 - mae: 10.9581\n",
      "Epoch 85/100\n"
     ]
    },
    {
     "name": "stdout",
     "output_type": "stream",
     "text": [
      "25/25 [==============================] - 0s 2ms/step - loss: 10.9830 - mae: 10.9830\n",
      "Epoch 86/100\n",
      "25/25 [==============================] - 0s 2ms/step - loss: 10.9499 - mae: 10.9499\n",
      "Epoch 87/100\n",
      "25/25 [==============================] - 0s 2ms/step - loss: 10.9570 - mae: 10.9570\n",
      "Epoch 88/100\n",
      "25/25 [==============================] - 0s 2ms/step - loss: 10.9154 - mae: 10.9154\n",
      "Epoch 89/100\n",
      "25/25 [==============================] - 0s 2ms/step - loss: 10.9605 - mae: 10.9605\n",
      "Epoch 90/100\n",
      "25/25 [==============================] - 0s 2ms/step - loss: 10.9519 - mae: 10.9519\n",
      "Epoch 91/100\n",
      "25/25 [==============================] - 0s 2ms/step - loss: 10.9327 - mae: 10.9327\n",
      "Epoch 92/100\n",
      "25/25 [==============================] - 0s 2ms/step - loss: 10.9180 - mae: 10.9180\n",
      "Epoch 93/100\n",
      "25/25 [==============================] - 0s 2ms/step - loss: 10.9068 - mae: 10.9068\n",
      "Epoch 94/100\n",
      "25/25 [==============================] - 0s 2ms/step - loss: 10.9736 - mae: 10.9736\n",
      "Epoch 95/100\n",
      "25/25 [==============================] - 0s 2ms/step - loss: 10.9267 - mae: 10.9267\n",
      "Epoch 96/100\n",
      "25/25 [==============================] - 0s 2ms/step - loss: 10.9202 - mae: 10.9202\n",
      "Epoch 97/100\n",
      "25/25 [==============================] - 0s 2ms/step - loss: 10.8840 - mae: 10.8840\n",
      "Epoch 98/100\n",
      "25/25 [==============================] - 0s 2ms/step - loss: 10.8946 - mae: 10.8946\n",
      "Epoch 99/100\n",
      "25/25 [==============================] - 0s 3ms/step - loss: 10.9346 - mae: 10.9346\n",
      "Epoch 100/100\n",
      "25/25 [==============================] - 0s 3ms/step - loss: 10.9321 - mae: 10.9321\n"
     ]
    }
   ],
   "source": [
    "history = model9.fit(X_train, y_train, epochs=100)"
   ]
  },
  {
   "cell_type": "code",
   "execution_count": 91,
   "metadata": {
    "colab": {
     "base_uri": "https://localhost:8080/",
     "height": 279
    },
    "id": "0xmzQ4211IhC",
    "outputId": "41ecc27e-081a-47af-eb8f-7100f3901afb"
   },
   "outputs": [
    {
     "data": {
      "image/png": "[encoded data removed]",
      "text/plain": [
       "<Figure size 432x288 with 1 Axes>"
      ]
     },
     "metadata": {
      "needs_background": "light"
     },
     "output_type": "display_data"
    }
   ],
   "source": [
    "# Ploting history curve\n",
    "\n",
    "pd.DataFrame(history.history).plot()\n",
    "plt.ylabel('loss')\n",
    "plt.xlabel('epochs')\n",
    "plt.show()"
   ]
  },
  {
   "cell_type": "code",
   "execution_count": 92,
   "metadata": {
    "colab": {
     "base_uri": "https://localhost:8080/"
    },
    "id": "7ZWtJqio1K46",
    "outputId": "35ceb0ee-7dc0-4116-ee2b-0bd6e6932e87"
   },
   "outputs": [
    {
     "name": "stdout",
     "output_type": "stream",
     "text": [
      "7/7 [==============================] - 0s 2ms/step\n"
     ]
    },
    {
     "data": {
      "text/plain": [
       "(10.98846118927002, 181.3851235236274, 0.1933835863504887)"
      ]
     },
     "execution_count": 92,
     "metadata": {},
     "output_type": "execute_result"
    }
   ],
   "source": [
    "y_pred = model9.predict(X_test)\n",
    "\n",
    "mae9 = mean_absolute_error(y_test, y_pred)\n",
    "mse9 = mean_squared_error(y_test, y_pred)\n",
    "r2_9 = r2_score(y_test, y_pred)\n",
    "mae9, mse9, r2_9"
   ]
  },
  {
   "cell_type": "code",
   "execution_count": 93,
   "metadata": {
    "id": "uwP-1Ak51SiH"
   },
   "outputs": [
    {
     "data": {
      "text/html": [
       "<div>\n",
       "<style scoped>\n",
       "    .dataframe tbody tr th:only-of-type {\n",
       "        vertical-align: middle;\n",
       "    }\n",
       "\n",
       "    .dataframe tbody tr th {\n",
       "        vertical-align: top;\n",
       "    }\n",
       "\n",
       "    .dataframe thead th {\n",
       "        text-align: right;\n",
       "    }\n",
       "</style>\n",
       "<table border=\"1\" class=\"dataframe\">\n",
       "  <thead>\n",
       "    <tr style=\"text-align: right;\">\n",
       "      <th></th>\n",
       "      <th>mae</th>\n",
       "      <th>mse</th>\n",
       "      <th>r2</th>\n",
       "    </tr>\n",
       "  </thead>\n",
       "  <tbody>\n",
       "    <tr>\n",
       "      <th>0</th>\n",
       "      <td>10.441470</td>\n",
       "      <td>163.056570</td>\n",
       "      <td>0.274890</td>\n",
       "    </tr>\n",
       "    <tr>\n",
       "      <th>1</th>\n",
       "      <td>10.983935</td>\n",
       "      <td>184.636834</td>\n",
       "      <td>0.178923</td>\n",
       "    </tr>\n",
       "    <tr>\n",
       "      <th>2</th>\n",
       "      <td>10.983531</td>\n",
       "      <td>185.475896</td>\n",
       "      <td>0.175192</td>\n",
       "    </tr>\n",
       "    <tr>\n",
       "      <th>3</th>\n",
       "      <td>10.653800</td>\n",
       "      <td>170.595681</td>\n",
       "      <td>0.241364</td>\n",
       "    </tr>\n",
       "    <tr>\n",
       "      <th>4</th>\n",
       "      <td>10.647959</td>\n",
       "      <td>173.322218</td>\n",
       "      <td>0.229239</td>\n",
       "    </tr>\n",
       "    <tr>\n",
       "      <th>5</th>\n",
       "      <td>11.297057</td>\n",
       "      <td>196.455232</td>\n",
       "      <td>0.126367</td>\n",
       "    </tr>\n",
       "    <tr>\n",
       "      <th>6</th>\n",
       "      <td>11.515117</td>\n",
       "      <td>206.662801</td>\n",
       "      <td>0.080974</td>\n",
       "    </tr>\n",
       "    <tr>\n",
       "      <th>7</th>\n",
       "      <td>11.753581</td>\n",
       "      <td>214.774649</td>\n",
       "      <td>0.044901</td>\n",
       "    </tr>\n",
       "    <tr>\n",
       "      <th>8</th>\n",
       "      <td>10.988461</td>\n",
       "      <td>181.385124</td>\n",
       "      <td>0.193384</td>\n",
       "    </tr>\n",
       "  </tbody>\n",
       "</table>\n",
       "</div>"
      ],
      "text/plain": [
       "         mae         mse        r2\n",
       "0  10.441470  163.056570  0.274890\n",
       "1  10.983935  184.636834  0.178923\n",
       "2  10.983531  185.475896  0.175192\n",
       "3  10.653800  170.595681  0.241364\n",
       "4  10.647959  173.322218  0.229239\n",
       "5  11.297057  196.455232  0.126367\n",
       "6  11.515117  206.662801  0.080974\n",
       "7  11.753581  214.774649  0.044901\n",
       "8  10.988461  181.385124  0.193384"
      ]
     },
     "execution_count": 93,
     "metadata": {},
     "output_type": "execute_result"
    }
   ],
   "source": [
    "writing_metrics = pd.DataFrame({'mae':[mae1, mae2, mae3, mae4, mae5, mae6, mae7, mae8, mae9], 'mse':[mse1, mse2, mse3, mse4, mse5, mse6, mse7, mse8, mse9], 'r2':[r2_1, r2_2, r2_3, r2_4, r2_5, r2_6, r2_7, r2_8, r2_9]})\n",
    "writing_metrics"
   ]
  },
  {
   "cell_type": "code",
   "execution_count": 94,
   "metadata": {
    "id": "GYtlcp9THmv1"
   },
   "outputs": [],
   "source": [
    "writing_model = model1"
   ]
  },
  {
   "cell_type": "markdown",
   "metadata": {
    "id": "-bwNM1w-1Ve7"
   },
   "source": [
    "### Linear Regression got the best metrics for writing model with mean absolute error of `10.441470`"
   ]
  },
  {
   "cell_type": "code",
   "execution_count": 95,
   "metadata": {
    "colab": {
     "base_uri": "https://localhost:8080/"
    },
    "id": "IzbPAC7uGzuD",
    "outputId": "eb6b95ec-a281-4efc-d720-a9d94834ea93"
   },
   "outputs": [
    {
     "data": {
      "text/plain": [
       "array([ -5.04199393, -10.35239095,  -8.41570695,  -7.4819135 ,\n",
       "        -4.83600806,   4.31526429,   4.7511876 ,  -0.5858153 ,\n",
       "         7.02859302,   4.35226579,  11.27689406,   6.12356942])"
      ]
     },
     "execution_count": 95,
     "metadata": {},
     "output_type": "execute_result"
    }
   ],
   "source": [
    "math_model.coef_"
   ]
  },
  {
   "cell_type": "code",
   "execution_count": 96,
   "metadata": {
    "colab": {
     "base_uri": "https://localhost:8080/"
    },
    "id": "T4D9WvesIHLh",
    "outputId": "d5ade7bc-a22d-43fe-a78e-bc1416f36a71"
   },
   "outputs": [
    {
     "data": {
      "text/plain": [
       "array([ -5.73847307, -10.96247764,  -8.80339191,  -8.34396001,\n",
       "        -5.23303079,   3.88505339,   6.75186806,  -0.5744124 ,\n",
       "         7.51045074,   3.7117225 ,  10.45732255,   5.74739585])"
      ]
     },
     "execution_count": 96,
     "metadata": {},
     "output_type": "execute_result"
    }
   ],
   "source": [
    "reading_model.coef_"
   ]
  },
  {
   "cell_type": "code",
   "execution_count": 97,
   "metadata": {
    "colab": {
     "base_uri": "https://localhost:8080/"
    },
    "id": "AWfSEUkeIYUE",
    "outputId": "328b7a9e-e493-46e3-e3aa-0069f8bee1ae"
   },
   "outputs": [
    {
     "data": {
      "text/plain": [
       "array([-4.41388376, -9.97121746, -7.44019545, -6.46560039, -4.72014049,\n",
       "        4.46676461,  6.48729783, -0.55101591,  7.11491877,  3.52297245,\n",
       "       10.93118065,  5.34127514])"
      ]
     },
     "execution_count": 97,
     "metadata": {},
     "output_type": "execute_result"
    }
   ],
   "source": [
    "writing_model.coef_"
   ]
  },
  {
   "cell_type": "code",
   "execution_count": 98,
   "metadata": {
    "colab": {
     "base_uri": "https://localhost:8080/"
    },
    "id": "KVtG3GNAIdLN",
    "outputId": "c3e5dd6f-7f34-4213-879e-03a13c3da562"
   },
   "outputs": [
    {
     "data": {
      "text/plain": [
       "Index(['gender_female', 'race/ethnicity_group A', 'race/ethnicity_group B',\n",
       "       'race/ethnicity_group C', 'race/ethnicity_group D',\n",
       "       'parental level of education_associate's degree',\n",
       "       'parental level of education_bachelor's degree',\n",
       "       'parental level of education_high school',\n",
       "       'parental level of education_master's degree',\n",
       "       'parental level of education_some college', 'lunch_standard',\n",
       "       'test preparation course_completed'],\n",
       "      dtype='object')"
      ]
     },
     "execution_count": 98,
     "metadata": {},
     "output_type": "execute_result"
    }
   ],
   "source": [
    "X_train.columns"
   ]
  },
  {
   "cell_type": "code",
   "execution_count": 99,
   "metadata": {
    "id": "2-Qk1GlPIgK7"
   },
   "outputs": [],
   "source": [
    "coefs = pd.DataFrame({'attribute' : X_train.columns, 'math_coefs' : math_model.coef_, 'reading_coefs' : reading_model.coef_, 'writing_coefs' : writing_model.coef_})"
   ]
  },
  {
   "cell_type": "code",
   "execution_count": 100,
   "metadata": {
    "colab": {
     "base_uri": "https://localhost:8080/",
     "height": 426
    },
    "id": "lxhIPtEWI13F",
    "outputId": "05435ec8-beed-406e-8f8e-eda812e516ac"
   },
   "outputs": [
    {
     "data": {
      "text/html": [
       "<div>\n",
       "<style scoped>\n",
       "    .dataframe tbody tr th:only-of-type {\n",
       "        vertical-align: middle;\n",
       "    }\n",
       "\n",
       "    .dataframe tbody tr th {\n",
       "        vertical-align: top;\n",
       "    }\n",
       "\n",
       "    .dataframe thead th {\n",
       "        text-align: right;\n",
       "    }\n",
       "</style>\n",
       "<table border=\"1\" class=\"dataframe\">\n",
       "  <thead>\n",
       "    <tr style=\"text-align: right;\">\n",
       "      <th></th>\n",
       "      <th>attribute</th>\n",
       "      <th>math_coefs</th>\n",
       "      <th>reading_coefs</th>\n",
       "      <th>writing_coefs</th>\n",
       "    </tr>\n",
       "  </thead>\n",
       "  <tbody>\n",
       "    <tr>\n",
       "      <th>0</th>\n",
       "      <td>gender_female</td>\n",
       "      <td>-5.041994</td>\n",
       "      <td>-5.738473</td>\n",
       "      <td>-4.413884</td>\n",
       "    </tr>\n",
       "    <tr>\n",
       "      <th>1</th>\n",
       "      <td>race/ethnicity_group A</td>\n",
       "      <td>-10.352391</td>\n",
       "      <td>-10.962478</td>\n",
       "      <td>-9.971217</td>\n",
       "    </tr>\n",
       "    <tr>\n",
       "      <th>2</th>\n",
       "      <td>race/ethnicity_group B</td>\n",
       "      <td>-8.415707</td>\n",
       "      <td>-8.803392</td>\n",
       "      <td>-7.440195</td>\n",
       "    </tr>\n",
       "    <tr>\n",
       "      <th>3</th>\n",
       "      <td>race/ethnicity_group C</td>\n",
       "      <td>-7.481914</td>\n",
       "      <td>-8.343960</td>\n",
       "      <td>-6.465600</td>\n",
       "    </tr>\n",
       "    <tr>\n",
       "      <th>4</th>\n",
       "      <td>race/ethnicity_group D</td>\n",
       "      <td>-4.836008</td>\n",
       "      <td>-5.233031</td>\n",
       "      <td>-4.720140</td>\n",
       "    </tr>\n",
       "    <tr>\n",
       "      <th>5</th>\n",
       "      <td>parental level of education_associate's degree</td>\n",
       "      <td>4.315264</td>\n",
       "      <td>3.885053</td>\n",
       "      <td>4.466765</td>\n",
       "    </tr>\n",
       "    <tr>\n",
       "      <th>6</th>\n",
       "      <td>parental level of education_bachelor's degree</td>\n",
       "      <td>4.751188</td>\n",
       "      <td>6.751868</td>\n",
       "      <td>6.487298</td>\n",
       "    </tr>\n",
       "    <tr>\n",
       "      <th>7</th>\n",
       "      <td>parental level of education_high school</td>\n",
       "      <td>-0.585815</td>\n",
       "      <td>-0.574412</td>\n",
       "      <td>-0.551016</td>\n",
       "    </tr>\n",
       "    <tr>\n",
       "      <th>8</th>\n",
       "      <td>parental level of education_master's degree</td>\n",
       "      <td>7.028593</td>\n",
       "      <td>7.510451</td>\n",
       "      <td>7.114919</td>\n",
       "    </tr>\n",
       "    <tr>\n",
       "      <th>9</th>\n",
       "      <td>parental level of education_some college</td>\n",
       "      <td>4.352266</td>\n",
       "      <td>3.711723</td>\n",
       "      <td>3.522972</td>\n",
       "    </tr>\n",
       "    <tr>\n",
       "      <th>10</th>\n",
       "      <td>lunch_standard</td>\n",
       "      <td>11.276894</td>\n",
       "      <td>10.457323</td>\n",
       "      <td>10.931181</td>\n",
       "    </tr>\n",
       "    <tr>\n",
       "      <th>11</th>\n",
       "      <td>test preparation course_completed</td>\n",
       "      <td>6.123569</td>\n",
       "      <td>5.747396</td>\n",
       "      <td>5.341275</td>\n",
       "    </tr>\n",
       "  </tbody>\n",
       "</table>\n",
       "</div>"
      ],
      "text/plain": [
       "                                         attribute  math_coefs  reading_coefs  \\\n",
       "0                                    gender_female   -5.041994      -5.738473   \n",
       "1                           race/ethnicity_group A  -10.352391     -10.962478   \n",
       "2                           race/ethnicity_group B   -8.415707      -8.803392   \n",
       "3                           race/ethnicity_group C   -7.481914      -8.343960   \n",
       "4                           race/ethnicity_group D   -4.836008      -5.233031   \n",
       "5   parental level of education_associate's degree    4.315264       3.885053   \n",
       "6    parental level of education_bachelor's degree    4.751188       6.751868   \n",
       "7          parental level of education_high school   -0.585815      -0.574412   \n",
       "8      parental level of education_master's degree    7.028593       7.510451   \n",
       "9         parental level of education_some college    4.352266       3.711723   \n",
       "10                                  lunch_standard   11.276894      10.457323   \n",
       "11               test preparation course_completed    6.123569       5.747396   \n",
       "\n",
       "    writing_coefs  \n",
       "0       -4.413884  \n",
       "1       -9.971217  \n",
       "2       -7.440195  \n",
       "3       -6.465600  \n",
       "4       -4.720140  \n",
       "5        4.466765  \n",
       "6        6.487298  \n",
       "7       -0.551016  \n",
       "8        7.114919  \n",
       "9        3.522972  \n",
       "10      10.931181  \n",
       "11       5.341275  "
      ]
     },
     "execution_count": 100,
     "metadata": {},
     "output_type": "execute_result"
    }
   ],
   "source": [
    "coefs"
   ]
  }
 ],
 "metadata": {
  "colab": {
   "collapsed_sections": [],
   "provenance": []
  },
  "kernelspec": {
   "display_name": "Python 3 (ipykernel)",
   "language": "python",
   "name": "python3"
  },
  "language_info": {
   "codemirror_mode": {
    "name": "ipython",
    "version": 3
   },
   "file_extension": ".py",
   "mimetype": "text/x-python",
   "name": "python",
   "nbconvert_exporter": "python",
   "pygments_lexer": "ipython3",
   "version": "3.9.12"
  },
  "vscode": {
   "interpreter": {
    "hash": "9e35676d33e03a9093a17dc7760f2b2aa4960ff6d3c0d7dc06348afdc0ca22c8"
   }
  }
 },
 "nbformat": 4,
 "nbformat_minor": 1
}
